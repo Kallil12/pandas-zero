{
  "nbformat": 4,
  "nbformat_minor": 0,
  "metadata": {
    "colab": {
      "name": "DataframeBD.ipynb",
      "provenance": [],
      "collapsed_sections": []
    },
    "kernelspec": {
      "name": "python3",
      "display_name": "Python 3"
    }
  },
  "cells": [
    {
      "cell_type": "markdown",
      "metadata": {
        "id": "E-vde5UCQRkQ",
        "colab_type": "text"
      },
      "source": [
        "# Dataframes como bancos de dados"
      ]
    },
    {
      "cell_type": "markdown",
      "metadata": {
        "id": "9He81AacH7Dk",
        "colab_type": "text"
      },
      "source": [
        "Os dataframes do Pandas oferecem diferentes formas de consultar dados.\n",
        "\n",
        "Em alguns casos, essas consultas podem se tornar tão elaboradas como em bancos de dados tradicionais.\n",
        "\n",
        "Neste notebook, vamos ver como fazer consultas simples a um dataset carregado da internet.\n",
        "\n",
        "## Carregando dados da internet\n",
        "Há várias formas de se trabalhar com dados carregados da internet. \n",
        "\n",
        "Aqui, vamos baixar o dataset usando uma ferramenta Linux e carregá-lo no Pandas."
      ]
    },
    {
      "cell_type": "markdown",
      "metadata": {
        "id": "MyR5JpdlW4Oq",
        "colab_type": "text"
      },
      "source": [
        "### Baixando um dataset com `wget`\n",
        "\n",
        "A execução de um notebook no Colab é feita em um computador na infraestrutura da Google.\n",
        "\n",
        "Os computadores da Google usam o sistema operacional Linux e nós podemos aproveitar isso quando algum programa do Linux pode nos ajudar.\n",
        "\n",
        "Um exemplo é o programa ``wget``, que baixa a URL que informamos.\n",
        "\n",
        "Para rodar um programa Linux no Colab, temos que fazer isso pelas células de código, usando comandos do terminal Linux iniciados pelo símbolo ``!``\n",
        "\n",
        "Nesse caso, usei o ``wget`` para fazer o download de um dataset do portal de dados abertos da UFRN que contém os discentes ingressantes em 2019:"
      ]
    },
    {
      "cell_type": "code",
      "metadata": {
        "id": "OxJWg_znp9sr",
        "colab_type": "code",
        "colab": {}
      },
      "source": [
        "!wget http://dados.ufrn.br/dataset/554c2d41-cfce-4278-93c6-eb9aa49c5d16/resource/a55aef81-e094-4267-8643-f283524e3dd7/download/discentes-2019.csv"
      ],
      "execution_count": 0,
      "outputs": []
    },
    {
      "cell_type": "markdown",
      "metadata": {
        "id": "uGNACj0msDF4",
        "colab_type": "text"
      },
      "source": [
        "O arquivo ``discentes-2019.csv`` deve aparecer na lista de arquivos do lado esquerdo da tela.\n",
        "\n",
        "### Carregando o dataset\n",
        "\n",
        "Vamos carregar o arquivo como um dataframe do Pandas:"
      ]
    },
    {
      "cell_type": "code",
      "metadata": {
        "id": "gwSjQx6bvTCM",
        "colab_type": "code",
        "colab": {}
      },
      "source": [
        "import pandas as pd\n",
        "data = pd.read_csv('discentes-2019.csv', sep=';')\n",
        "data.head()"
      ],
      "execution_count": 0,
      "outputs": []
    },
    {
      "cell_type": "markdown",
      "metadata": {
        "id": "cxMtfVo6sqgl",
        "colab_type": "text"
      },
      "source": [
        "Caso você tenha tido alguma dúvida, vamos rever o código acima:\n",
        " - ```python\n",
        " import pandas as pd\n",
        " ```\n",
        " Importamos o Pandas e pedimos para chamá-lo de ``pd``\n",
        " ```python\n",
        "data = pd.read_csv('discentes-2019.csv', sep=';')\n",
        " ```\n",
        " - Como usamos um nome para o Pandas, todos os seus comandos serão localizados a partir desse nome (ex.: ``pd.read_csv()``)\n",
        " - Informamos o caracter que é usado no dataset como delimitador de características usando a opção ``sep=';'`` (normalmente o Pandas consegue detectar isso automaticamente, mas em datasets brasileiros é comum dar errado)\n",
        " ```python\n",
        " data.head()\n",
        " ```\n",
        " Visualizamos as primeiras observações do dataset com o método ``head()``\n"
      ]
    },
    {
      "cell_type": "markdown",
      "metadata": {
        "id": "0bLccn8pwD8o",
        "colab_type": "text"
      },
      "source": [
        "## Consultando um dataframe\n",
        "\n",
        "Bom, já temos nosso dataframe pronto para consultas.\n",
        "\n",
        "As formas mais simples de consulta são a **indexação** e o **fatiamento**.\n",
        "\n",
        "### Indexando um dataset\n",
        "\n",
        "Consultas em um dataframe Pandas são feitas a partir de **índices**.\n",
        "\n",
        "O índice principal em um dataframe é o das colunas, que representam as características:\n",
        "\n"
      ]
    },
    {
      "cell_type": "code",
      "metadata": {
        "id": "EPanQZfunULU",
        "colab_type": "code",
        "colab": {}
      },
      "source": [
        "data.columns"
      ],
      "execution_count": 0,
      "outputs": []
    },
    {
      "cell_type": "markdown",
      "metadata": {
        "id": "Q99w62hIGwxo",
        "colab_type": "text"
      },
      "source": [
        "A resposta do Pandas é um pouco verbosa (poluída), mas a parte que nos importa é a lista de nomes de colunas.\n",
        "\n",
        "Em Python, uma lista é representada pela notação `[elemento_1, elemento_2, ..., elemento_n]`:\n",
        "\n",
        "````python\n",
        "['matricula', 'nome_discente', 'sexo', 'ano_ingresso',\n",
        "'periodo_ingresso', 'forma_ingresso', 'tipo_discente', 'status',\n",
        "'sigla_nivel_ensino', 'nivel_ensino', 'id_curso', 'nome_curso',\n",
        "'modalidade_educacao', 'id_unidade', 'nome_unidade',\n",
        "'id_unidade_gestora', 'nome_unidade_gestora']\n",
        "````\n"
      ]
    },
    {
      "cell_type": "markdown",
      "metadata": {
        "id": "QQkfJXoWHJ18",
        "colab_type": "text"
      },
      "source": [
        "Isto significa que podemos acessar qualquer uma dessas colunas do dataframe usando as notações `data['nome_da_coluna']` e `data.nome_da_coluna`\n",
        "\n",
        "Como cada coluna é considerada uma série (objeto do tipo `Series`), podemos usar os métodos desse tipo:"
      ]
    },
    {
      "cell_type": "code",
      "metadata": {
        "id": "PWnsq32eHJTB",
        "colab_type": "code",
        "colab": {}
      },
      "source": [
        "data[\"nome_discente\"].head()"
      ],
      "execution_count": 0,
      "outputs": []
    },
    {
      "cell_type": "code",
      "metadata": {
        "id": "PKFVIl4uJO_w",
        "colab_type": "code",
        "colab": {}
      },
      "source": [
        "data.nome_unidade.tail()"
      ],
      "execution_count": 0,
      "outputs": []
    },
    {
      "cell_type": "markdown",
      "metadata": {
        "id": "MuP5PPjsJY4p",
        "colab_type": "text"
      },
      "source": [
        "Os dados em uma série também estão indexados. \n",
        "\n",
        "Podemos acessá-los individualmente usando a notação `série[número_da_linha]`:"
      ]
    },
    {
      "cell_type": "code",
      "metadata": {
        "id": "kiTFTNURKj1y",
        "colab_type": "code",
        "colab": {}
      },
      "source": [
        "nomes_discentes = data[\"nome_discente\"]\n",
        "nomes_discentes[0]"
      ],
      "execution_count": 0,
      "outputs": []
    },
    {
      "cell_type": "code",
      "metadata": {
        "id": "FXpX4DS1LWCw",
        "colab_type": "code",
        "colab": {}
      },
      "source": [
        "data[\"nome_discente\"][0]"
      ],
      "execution_count": 0,
      "outputs": []
    },
    {
      "cell_type": "code",
      "metadata": {
        "id": "HcZGxZm1LiXQ",
        "colab_type": "code",
        "colab": {}
      },
      "source": [
        "data.nome_unidade[0]"
      ],
      "execution_count": 0,
      "outputs": []
    },
    {
      "cell_type": "markdown",
      "metadata": {
        "id": "Zd8LWkveyWBv",
        "colab_type": "text"
      },
      "source": [
        "Também é possível acessar diretamente os dados usando os métodos `loc` e `iloc`:\n",
        "- Se referindo às colunas pelos seus nomes, usando a notação `data.loc[linha, nome_coluna]`\n",
        ":"
      ]
    },
    {
      "cell_type": "code",
      "metadata": {
        "id": "WgePGZkWNOU1",
        "colab_type": "code",
        "colab": {}
      },
      "source": [
        "data.loc[0, \"nome_discente\"]"
      ],
      "execution_count": 0,
      "outputs": []
    },
    {
      "cell_type": "markdown",
      "metadata": {
        "id": "mWl7e570OUP0",
        "colab_type": "text"
      },
      "source": [
        "- Se referindo às colunas pela sua posição no índice de colunas, usando a notação `data.iloc[linha, índice_coluna]`"
      ]
    },
    {
      "cell_type": "code",
      "metadata": {
        "id": "T7Gq23b2Nohl",
        "colab_type": "code",
        "colab": {}
      },
      "source": [
        "data.iloc[0, 1]"
      ],
      "execution_count": 0,
      "outputs": []
    },
    {
      "cell_type": "markdown",
      "metadata": {
        "id": "BcDrpBu1Ph04",
        "colab_type": "text"
      },
      "source": [
        "Note que os índices são contados a partir do número 0. Como `\"nome_discente\"` é a segunda coluna, usamos o índice 1 para acessá-la.\n",
        "\n",
        "Os métodos `loc` e `iloc` também aceitam que você informe uma lista de índices."
      ]
    },
    {
      "cell_type": "code",
      "metadata": {
        "id": "7QUL-EOQQn2o",
        "colab_type": "code",
        "colab": {}
      },
      "source": [
        "data.loc[0, [\"nome_discente\",\"nome_curso\"]]"
      ],
      "execution_count": 0,
      "outputs": []
    },
    {
      "cell_type": "code",
      "metadata": {
        "id": "p8oN5MMZRBwi",
        "colab_type": "code",
        "colab": {}
      },
      "source": [
        "data.iloc[[1,3,7], 1]"
      ],
      "execution_count": 0,
      "outputs": []
    },
    {
      "cell_type": "markdown",
      "metadata": {
        "id": "ogHt3AlMRG5i",
        "colab_type": "text"
      },
      "source": [
        "**Observação:** Para quem conhece um pouco mais sobre Python, os métodos `loc` e `iloc` aceitam qualquer tipo iterável."
      ]
    },
    {
      "cell_type": "markdown",
      "metadata": {
        "id": "hjtzZhzlP-ku",
        "colab_type": "text"
      },
      "source": [
        "### Fatiando um dataset"
      ]
    },
    {
      "cell_type": "markdown",
      "metadata": {
        "id": "iN1qf9NgNpVN",
        "colab_type": "text"
      },
      "source": [
        "Na maioria das vezes, nosso interesse é em um bloco contíguo de linhas e/ou colunas.\n",
        "\n",
        "Isso pode ser feito através de operações de fatiamento:\n",
        "- Por linhas, usando a notação `data.loc[linha_início:linha_fim, nome_coluna]`:"
      ]
    },
    {
      "cell_type": "code",
      "metadata": {
        "id": "AJPtTJxqDmTD",
        "colab_type": "code",
        "colab": {}
      },
      "source": [
        "data.loc[0:500,'nome_discente']"
      ],
      "execution_count": 0,
      "outputs": []
    },
    {
      "cell_type": "markdown",
      "metadata": {
        "id": "tETV_5sCOcoQ",
        "colab_type": "text"
      },
      "source": [
        "* Por linhas e colunas, usando a notação `data.loc[linha_início:linha_fim, coluna_início:coluna_fim]`:"
      ]
    },
    {
      "cell_type": "code",
      "metadata": {
        "id": "X716AoGBDvcN",
        "colab_type": "code",
        "colab": {}
      },
      "source": [
        "data.iloc[0:5, 5:8]"
      ],
      "execution_count": 0,
      "outputs": []
    },
    {
      "cell_type": "markdown",
      "metadata": {
        "id": "PqlltwoMOqsv",
        "colab_type": "text"
      },
      "source": [
        "É importante observar que operações de fatiamento em Python costumam incluir o elemento referido pelo primeiro índice, mas não o elemento referido pelo segundo índice.\n",
        "\n",
        "Assim, no exemplo `data.iloc[0:5, 5:8]` temos 5 linhas e 3 colunas sendo retornadas.\n",
        "\n",
        "O método `loc` foge a esse padrão, incluindo também a linha referida pelo segundo índice.\n",
        "\n",
        "Por isso, o exemplo `data.loc[0:500,'nome_discente']` retorna 501 linhas.\n",
        "\n",
        "Isso acontece porque no método `loc`, é possível fatiar o dataframe também por colunas. Neste caso, faz sentido que a segunda referência seja inclusa:"
      ]
    },
    {
      "cell_type": "code",
      "metadata": {
        "id": "xt4OTMXsPGrH",
        "colab_type": "code",
        "colab": {}
      },
      "source": [
        "data.loc[0:500, 'nome_discente':'ano_ingresso']"
      ],
      "execution_count": 0,
      "outputs": []
    },
    {
      "cell_type": "markdown",
      "metadata": {
        "id": "zK2I__X1VaCz",
        "colab_type": "text"
      },
      "source": [
        "## Consultas como em bancos de dados"
      ]
    },
    {
      "cell_type": "markdown",
      "metadata": {
        "id": "7nGWbGXrVdUz",
        "colab_type": "text"
      },
      "source": [
        "As operações de indexação e fatiamento são inerentes à linguagem Python e por isso são implementadas pelo Pandas.\n",
        "\n",
        "Em parte, elas ajudam a operacionalizar a **seleção** e a **projeção** comuns em bancos de dados:\n",
        "- **Seleção**: escolher um subconjunto de observações\n",
        "- **Projeção**: escolher um subconjunto de características\n",
        "\n",
        "Os dataframes do Pandas fornecem mais métodos para estes tipos de consulta."
      ]
    },
    {
      "cell_type": "markdown",
      "metadata": {
        "id": "Yr8LpSswZ_HV",
        "colab_type": "text"
      },
      "source": [
        "#### Pesquisando pelo nome das características\n",
        "\n",
        "O método **filter()** escolhe um subconjunto de características baseado em seu nome:"
      ]
    },
    {
      "cell_type": "code",
      "metadata": {
        "id": "FzTKAWMsd_U4",
        "colab_type": "code",
        "colab": {}
      },
      "source": [
        "data.filter(like='ingresso')"
      ],
      "execution_count": 0,
      "outputs": []
    },
    {
      "cell_type": "markdown",
      "metadata": {
        "id": "Vn1YdnXPXOjC",
        "colab_type": "text"
      },
      "source": [
        "O resultado do método **filter** é um novo `DataFrame` que pode ser associado a um novo nome:"
      ]
    },
    {
      "cell_type": "code",
      "metadata": {
        "id": "cdBjaM_RXawY",
        "colab_type": "code",
        "colab": {}
      },
      "source": [
        "data_ingresso = data.filter(like='ingresso')\n",
        "data_ingresso.head()"
      ],
      "execution_count": 0,
      "outputs": []
    },
    {
      "cell_type": "markdown",
      "metadata": {
        "id": "I0fb6cKPL-wL",
        "colab_type": "text"
      },
      "source": [
        "### Pesquisando por condições\n",
        "\n",
        "Uma outra maneira de filtrar pelos valores das colunas é através de **condições**.\n",
        "\n",
        "Para isso, usamos a notação `data[condição]`, onde `condição` é uma expressão lógica do Python.\n",
        "\n",
        "Por exemplo, vamos escolher apenas as observações cuja **forma_ingresso** tenha valor **REINGRESSO SEGUNDO CICLO**:"
      ]
    },
    {
      "cell_type": "code",
      "metadata": {
        "id": "q0oc1e_PCDii",
        "colab_type": "code",
        "colab": {}
      },
      "source": [
        "data[data[\"forma_ingresso\"] == \"REINGRESSO SEGUNDO CICLO\"]"
      ],
      "execution_count": 0,
      "outputs": []
    },
    {
      "cell_type": "markdown",
      "metadata": {
        "id": "OY0VDG5_jiQv",
        "colab_type": "text"
      },
      "source": [
        "Vamos discutir o exemplo acima:\n",
        "* ```python\n",
        "data[\"forma_ingresso\"] == \"REINGRESSO SEGUNDO CICLO\"\n",
        "````\n",
        "* `data[\"forma_ingresso\"]` é uma série \n",
        "* Comparamos cada valor nesta série com o valor `\"REINGRESSO SEGUNDO CICLO\"` usando o operador de igualdade `==`\n",
        "```python\n",
        "data[data[\"forma_ingresso\"] == \"REINGRESSO SEGUNDO CICLO\"]\n",
        "```\n",
        "Escolhemos apenas as observações que satisfazem essa condição\n",
        "\n",
        "Note que seria possível usar nomes tanto para referência à condição quanto para o `DataFrame` retornado por fim:"
      ]
    },
    {
      "cell_type": "code",
      "metadata": {
        "id": "0mwwuJ7Xkd2g",
        "colab_type": "code",
        "colab": {}
      },
      "source": [
        "condição = data[\"forma_ingresso\"] == \"REINGRESSO SEGUNDO CICLO\"\n",
        "data_segundo_ciclo = data[condição]\n",
        "data_segundo_ciclo.head()"
      ],
      "execution_count": 0,
      "outputs": []
    },
    {
      "cell_type": "markdown",
      "metadata": {
        "id": "l5S3EdmLp1F8",
        "colab_type": "text"
      },
      "source": [
        "#### Condições e operadores de comparação\n",
        "\n",
        "No exemplo acima, usamos o operador de igualdade. \n",
        "\n",
        "Note que é diferente usar `==` (comparação de igualdade) e `=` (associação de nome a objeto).\n",
        "\n",
        "O Python oferece mais operadores de comparação:\n",
        "\n",
        "| Símbolo | Significado |\n",
        "|:----:|---|\n",
        "| == | Igualdade |\n",
        "| !=  | Diferença |\n",
        "| < | Menor |\n",
        "| > | Maior |\n",
        "| <=  | Menor ou igual |\n",
        "| >=  | Maior ou igual |\n",
        "\n",
        "Também é importante observar que os operadores menor/maior (ou igual) costumam ser aplicados a dados numéricos.\n",
        "\n",
        "Para dados nominais, podemos usar o método `isin()`.\n",
        "\n",
        "Vamos dar uma olhada nos valores existentes para a característica `\"status\"` usando o método `unique()`:"
      ]
    },
    {
      "cell_type": "code",
      "metadata": {
        "id": "EA9ORMrg1yS2",
        "colab_type": "code",
        "colab": {}
      },
      "source": [
        "data['status'].unique()"
      ],
      "execution_count": 0,
      "outputs": []
    },
    {
      "cell_type": "markdown",
      "metadata": {
        "id": "6Y7Z7ngK12aq",
        "colab_type": "text"
      },
      "source": [
        "Novamente temos um resultado verboso, mas nos interessa a lista de valores:\n",
        "\n",
        "```python3\n",
        "['ATIVO', 'CANCELADO', 'CADASTRADO', 'TRANCADO', 'ATIVO - FORMANDO',\n",
        "       'CONCLUÍDO', 'DEFENDIDO']\n",
        "````"
      ]
    },
    {
      "cell_type": "markdown",
      "metadata": {
        "id": "TQdwp3y32AaC",
        "colab_type": "text"
      },
      "source": [
        "Vamos escolher apenas as observações cujo status seja \"CANCELADO\" ou \"TRANCADO\":"
      ]
    },
    {
      "cell_type": "code",
      "metadata": {
        "id": "qh-TQoNbsXNC",
        "colab_type": "code",
        "colab": {}
      },
      "source": [
        "condição = data[\"status\"].isin([\"CANCELADO\", \"TRANCADO\"])\n",
        "data_cancelado_trancado = data[condição]\n",
        "data_cancelado_trancado.tail()"
      ],
      "execution_count": 0,
      "outputs": []
    },
    {
      "cell_type": "markdown",
      "metadata": {
        "id": "FLLC_2stfihh",
        "colab_type": "text"
      },
      "source": [
        "#### Condições e operadores lógicos\n",
        "Podemos também usar condições mais complexas, usando **operadores lógicos**.\n",
        "\n",
        "Vamos restringir um pouco mais a consulta acima para que, além de **forma_ingresso** ter valor **REINGRESSO SEGUNDO CICLO**, **nome_curso** tenha valor **ENGENHARIA DE SOFTWARE**:"
      ]
    },
    {
      "cell_type": "code",
      "metadata": {
        "id": "y25iRIQnldzG",
        "colab_type": "code",
        "colab": {}
      },
      "source": [
        "condição_segundo_ciclo = data[\"forma_ingresso\"] == \"REINGRESSO SEGUNDO CICLO\"\n",
        "condição_engenharia_software = data[\"nome_curso\"] == \"ENGENHARIA DE SOFTWARE\"\n",
        "data_2ciclo_engsoft = data[condição_segundo_ciclo & condição_engenharia_software]\n",
        "data_2ciclo_engsoft.head()"
      ],
      "execution_count": 0,
      "outputs": []
    },
    {
      "cell_type": "markdown",
      "metadata": {
        "id": "6gBoCgGdl33r",
        "colab_type": "text"
      },
      "source": [
        "Revendo o código acima:\n",
        "* ```python\n",
        "condição_segundo_ciclo = data[\"forma_ingresso\"] == \"REINGRESSO SEGUNDO CICLO\"\n",
        "````\n",
        "Condição para escolher apenas os ingressantes através de reingresso de segundo ciclo\n",
        "```python\n",
        "condição_engenharia_software = data[\"nome_curso\"] == \"ENGENHARIA DE SOFTWARE\"\n",
        "```\n",
        "Condição para escolher apenas os ingressantes do curso de engenharia de software\n",
        "```python\n",
        "data_2ciclo_engsoft = data[condição_segundo_ciclo & condição_engenharia_software]\n",
        "```\n",
        "Combinando as duas condições através do operador `&` (lemos como E)"
      ]
    },
    {
      "cell_type": "markdown",
      "metadata": {
        "id": "_-dAt2lgodAi",
        "colab_type": "text"
      },
      "source": [
        "#### Outros operadores lógicos\n",
        "\n",
        "Além do operador `&`, o Pandas também disponibiliza o operador `|` (lemos como OU).\n",
        "\n",
        "Enquanto o operador `&` escolhe a linha apenas se as duas condições forem verdadeiras, para o operador `|` basta que uma das condições seja satisfeita.\n",
        "\n",
        "Seguindo essa definição, o que o exemplo abaixo faz?"
      ]
    },
    {
      "cell_type": "code",
      "metadata": {
        "id": "C8yVonNefiqB",
        "colab_type": "code",
        "colab": {}
      },
      "source": [
        "condição_segundo_ciclo = data[\"forma_ingresso\"] == \"REINGRESSO SEGUNDO CICLO\"\n",
        "condição_engenharia_software = data[\"nome_curso\"] == \"ENGENHARIA DE SOFTWARE\"\n",
        "condição_ciência_computação = data[\"nome_curso\"] == \"CIÊNCIA DA COMPUTAÇÃO\"\n",
        "condição_dimap = condição_ciência_computação | condição_engenharia_software\n",
        "data_2ciclo_dimap = data[condição_segundo_ciclo & condição_dimap]\n",
        "data_2ciclo_dimap.head()"
      ],
      "execution_count": 0,
      "outputs": []
    },
    {
      "cell_type": "markdown",
      "metadata": {
        "id": "lYIp5ZOcomNe",
        "colab_type": "text"
      },
      "source": [
        "Revendo o código acima:\n",
        "* ```python\n",
        "condição_segundo_ciclo = data[\"forma_ingresso\"] == \"REINGRESSO SEGUNDO CICLO\"\n",
        "````\n",
        "Condição para escolher apenas os ingressantes através de reingresso de segundo ciclo\n",
        "```python\n",
        "condição_engenharia_software = data[\"nome_curso\"] == \"ENGENHARIA DE SOFTWARE\"\n",
        "```\n",
        "Condição para escolher apenas os ingressantes do curso de engenharia de software\n",
        "```python\n",
        "condição_ciência_computação = data[\"nome_curso\"] == \"CIÊNCIA DA COMPUTAÇÃO\"\n",
        "```\n",
        "Condição para escolher apenas os ingressantes do curso de ciência da computação\n",
        "```python\n",
        "condição_dimap = condição_ciência_computação | condição_engenharia_software\n",
        "```\n",
        "Combinando as duas condições através do operador OU\n",
        "```python\n",
        "data_2ciclo_dimap = data[condição_segundo_ciclo & condição_dimap]\n",
        "```\n",
        "Combinando as duas condições através do operador E\n",
        "\n",
        "Note que usamos o operador OU quando poderíamos ter usado o método `isin()`, que é mais legível.\n",
        "\n",
        "Em geral, adotamos o operador OU quando as condições envolvem características distintas, em vez de valores distintos para uma mesma característica.\n",
        "\n",
        "Por último, o operador `~` (lemos operador NÃO) serve para reverter uma condição:"
      ]
    },
    {
      "cell_type": "code",
      "metadata": {
        "id": "VM2AENbdpel7",
        "colab_type": "code",
        "colab": {}
      },
      "source": [
        "data_ingresso_direto = data[~condição_segundo_ciclo]\n",
        "data_ingresso_direto.head()"
      ],
      "execution_count": 0,
      "outputs": []
    },
    {
      "cell_type": "markdown",
      "metadata": {
        "id": "N4ij0OwfuPUu",
        "colab_type": "text"
      },
      "source": [
        "* **Observação**: expressões lógicas complexas merecem uma pesquisa específica sobre o assunto. Cobrir esse tópico em profundidade foge do escopo deste notebook 🙃"
      ]
    },
    {
      "cell_type": "markdown",
      "metadata": {
        "id": "rUxmpjzLw6v0",
        "colab_type": "text"
      },
      "source": [
        "### Mais métodos de consulta\n",
        "\n",
        "* **unique()**: traz todos os valores distintos de uma série\n",
        "\n"
      ]
    },
    {
      "cell_type": "code",
      "metadata": {
        "id": "9ELja07WnZHD",
        "colab_type": "code",
        "colab": {}
      },
      "source": [
        "data['forma_ingresso'].unique()"
      ],
      "execution_count": 0,
      "outputs": []
    },
    {
      "cell_type": "markdown",
      "metadata": {
        "id": "W1FBND3XKr6u",
        "colab_type": "text"
      },
      "source": [
        "* **nunique()**: traz a quantidade de valores distintos por coluna do dataframe (ou de uma série específica)\n"
      ]
    },
    {
      "cell_type": "code",
      "metadata": {
        "id": "9dDk-eleHePv",
        "colab_type": "code",
        "colab": {}
      },
      "source": [
        "data.nunique()"
      ],
      "execution_count": 0,
      "outputs": []
    },
    {
      "cell_type": "code",
      "metadata": {
        "colab_type": "code",
        "id": "0V9620-PRdsT",
        "colab": {}
      },
      "source": [
        "data[\"sexo\"].nunique()"
      ],
      "execution_count": 0,
      "outputs": []
    },
    {
      "cell_type": "markdown",
      "metadata": {
        "id": "1sjPoopiN9bK",
        "colab_type": "text"
      },
      "source": [
        "* **value_counts()**: retorna quantas vezes cada valor de uma série se repete"
      ]
    },
    {
      "cell_type": "code",
      "metadata": {
        "id": "NXTmDPqnOGUT",
        "colab_type": "code",
        "colab": {}
      },
      "source": [
        "data[\"nome_unidade\"].value_counts()"
      ],
      "execution_count": 0,
      "outputs": []
    },
    {
      "cell_type": "markdown",
      "metadata": {
        "id": "zYaf7IvINVMH",
        "colab_type": "text"
      },
      "source": [
        "* **'sort_values()'** é usado para ordenação no dataframe. Podendo especificar quais as colunas para se ordernar e se vai ser crescente ou decrescente.\n",
        "\n",
        "\n",
        "```\n",
        "sort_values(by=[<colunas>],ascending=<True or False>)\n",
        "```\n",
        "\n",
        "\n"
      ]
    },
    {
      "cell_type": "code",
      "metadata": {
        "id": "ssYDlYsVLQCC",
        "colab_type": "code",
        "colab": {}
      },
      "source": [
        "data.sort_values(by=['periodo_ingresso','forma_ingresso'],ascending=False).head(5)"
      ],
      "execution_count": 0,
      "outputs": []
    },
    {
      "cell_type": "markdown",
      "metadata": {
        "id": "wD038RycMPKZ",
        "colab_type": "text"
      },
      "source": [
        "O método **'value_counts()'** retorna dados estatísticos das colunas numericas do dataframe"
      ]
    },
    {
      "cell_type": "code",
      "metadata": {
        "id": "-ECoZ7U4DG2A",
        "colab_type": "code",
        "colab": {}
      },
      "source": [
        "data['nome_curso'].value_counts()"
      ],
      "execution_count": 0,
      "outputs": []
    }
  ]
}