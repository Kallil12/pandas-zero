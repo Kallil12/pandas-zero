{
  "nbformat": 4,
  "nbformat_minor": 0,
  "metadata": {
    "colab": {
      "name": "DataframeBD.ipynb",
      "provenance": [],
      "collapsed_sections": [],
      "toc_visible": true
    },
    "kernelspec": {
      "name": "python3",
      "display_name": "Python 3"
    }
  },
  "cells": [
    {
      "cell_type": "markdown",
      "metadata": {
        "id": "E-vde5UCQRkQ",
        "colab_type": "text"
      },
      "source": [
        "# Aprendendo sobre dataframes"
      ]
    },
    {
      "cell_type": "markdown",
      "metadata": {
        "id": "MyR5JpdlW4Oq",
        "colab_type": "text"
      },
      "source": [
        "Como o Colab roda em uma instância na nuvem da google, nós podemos usar a ! para chamar comandos linux.\n",
        "Nesse caso, usei o wget passando o link para fazer o download do arquivo (Dados abertos da UFRN de discentes ingressos em 2019)"
      ]
    },
    {
      "cell_type": "code",
      "metadata": {
        "id": "OxJWg_znp9sr",
        "colab_type": "code",
        "colab": {}
      },
      "source": [
        "!wget http://dados.ufrn.br/dataset/554c2d41-cfce-4278-93c6-eb9aa49c5d16/resource/a55aef81-e094-4267-8643-f283524e3dd7/download/discentes-2019.csv"
      ],
      "execution_count": 0,
      "outputs": []
    },
    {
      "cell_type": "markdown",
      "metadata": {
        "id": "uGNACj0msDF4",
        "colab_type": "text"
      },
      "source": [
        "Nessa linha abaixo estamos importando a biblioteca pandas\n",
        "\n",
        "```\n",
        "import pandas as pd\n",
        "```\n",
        "\n",
        "Aqui estamos lendo os dados de um csv e atribuindo a uma variavel\n",
        "\n",
        "```\n",
        "data = pd.read_csv('discentes-2019.csv', sep=';')\n",
        "```\n",
        "\n",
        "\n"
      ]
    },
    {
      "cell_type": "code",
      "metadata": {
        "id": "gwSjQx6bvTCM",
        "colab_type": "code",
        "colab": {}
      },
      "source": [
        "import pandas as pd\n",
        "\n",
        "data = pd.read_csv('discentes-2019.csv', sep=';')"
      ],
      "execution_count": 0,
      "outputs": []
    },
    {
      "cell_type": "markdown",
      "metadata": {
        "id": "cxMtfVo6sqgl",
        "colab_type": "text"
      },
      "source": [
        "Já temos nosso dataframe pronto para consultas"
      ]
    },
    {
      "cell_type": "code",
      "metadata": {
        "id": "qOy2rMMJIS0k",
        "colab_type": "code",
        "colab": {}
      },
      "source": [
        "#Imprime o dataframe\n",
        "\n",
        "data"
      ],
      "execution_count": 0,
      "outputs": []
    },
    {
      "cell_type": "markdown",
      "metadata": {
        "id": "0bLccn8pwD8o",
        "colab_type": "text"
      },
      "source": [
        "Alguns atributos do dataframe que já retornam alguma informação:\n",
        "  \n",
        "\n",
        "*   index\n",
        "*   columns\n",
        "*   shape\n",
        "\n"
      ]
    },
    {
      "cell_type": "code",
      "metadata": {
        "id": "R6PL2W7sM-t6",
        "colab_type": "code",
        "colab": {}
      },
      "source": [
        "#Indices(linhas)\n",
        "\n",
        "data.index"
      ],
      "execution_count": 0,
      "outputs": []
    },
    {
      "cell_type": "code",
      "metadata": {
        "id": "EPanQZfunULU",
        "colab_type": "code",
        "colab": {}
      },
      "source": [
        "#Colunas\n",
        "\n",
        "data.columns"
      ],
      "execution_count": 0,
      "outputs": []
    },
    {
      "cell_type": "code",
      "metadata": {
        "id": "am_npUPrnXjt",
        "colab_type": "code",
        "colab": {}
      },
      "source": [
        "#Quantidade de linhas e colunas\n",
        "\n",
        "data.shape"
      ],
      "execution_count": 0,
      "outputs": []
    },
    {
      "cell_type": "markdown",
      "metadata": {
        "id": "Zd8LWkveyWBv",
        "colab_type": "text"
      },
      "source": [
        "No pandas temos duas maneiras muito interessantes de resgatar os dados que queremos, são elas:\n",
        "\n",
        "```\n",
        "#Pelos rótulos\n",
        "data.loc[linhas,colunas]\n",
        "#Inteiro da Posição \n",
        "data.iloc[linhas,colunas]\n",
        "```\n"
      ]
    },
    {
      "cell_type": "code",
      "metadata": {
        "id": "AJPtTJxqDmTD",
        "colab_type": "code",
        "colab": {}
      },
      "source": [
        "#Nos trás o conteudo das 500 primeiras linhas da coluna de label forma_ingresso'\n",
        "\n",
        "data.loc[0:500,'nome_discente']"
      ],
      "execution_count": 0,
      "outputs": []
    },
    {
      "cell_type": "code",
      "metadata": {
        "id": "X716AoGBDvcN",
        "colab_type": "code",
        "colab": {}
      },
      "source": [
        "#Nos trás o conteudo das 5 primeiras linhas e das colunas 5,6 e 7\n",
        "\n",
        "data.iloc[0:5, 5:8]"
      ],
      "execution_count": 0,
      "outputs": []
    },
    {
      "cell_type": "markdown",
      "metadata": {
        "id": "rUxmpjzLw6v0",
        "colab_type": "text"
      },
      "source": [
        "O método **unique()** trás todos os valores distintos no caso da coluna 'forma_ingresso'\n",
        "\n",
        "\n"
      ]
    },
    {
      "cell_type": "code",
      "metadata": {
        "id": "9ELja07WnZHD",
        "colab_type": "code",
        "colab": {}
      },
      "source": [
        "data['forma_ingresso'].unique()"
      ],
      "execution_count": 0,
      "outputs": []
    },
    {
      "cell_type": "markdown",
      "metadata": {
        "id": "W1FBND3XKr6u",
        "colab_type": "text"
      },
      "source": [
        "Já o método **nunique()** trás a quantidade de valores distintos de cada coluna do dataframe\n"
      ]
    },
    {
      "cell_type": "code",
      "metadata": {
        "id": "9dDk-eleHePv",
        "colab_type": "code",
        "colab": {}
      },
      "source": [
        "data.nunique()"
      ],
      "execution_count": 0,
      "outputs": []
    },
    {
      "cell_type": "markdown",
      "metadata": {
        "id": "1sjPoopiN9bK",
        "colab_type": "text"
      },
      "source": [
        "Retorna quantas vezes cada valor da coluna se repete no dataframe"
      ]
    },
    {
      "cell_type": "code",
      "metadata": {
        "id": "NXTmDPqnOGUT",
        "colab_type": "code",
        "colab": {}
      },
      "source": [
        "data[\"nome_unidade\"].value_counts()"
      ],
      "execution_count": 0,
      "outputs": []
    },
    {
      "cell_type": "markdown",
      "metadata": {
        "id": "zYaf7IvINVMH",
        "colab_type": "text"
      },
      "source": [
        "O método **'sort_values()'** é usado para ordenação no dataframe. Podendo especificar quais as colunas para se ordernar e se vai ser crescente ou decrescente.\n",
        "\n",
        "\n",
        "```\n",
        "sort_values(by=[<colunas>],ascending=<True or False>)\n",
        "```\n",
        "\n",
        "\n"
      ]
    },
    {
      "cell_type": "code",
      "metadata": {
        "id": "ssYDlYsVLQCC",
        "colab_type": "code",
        "colab": {}
      },
      "source": [
        "data.sort_values(by=['periodo_ingresso','forma_ingresso'],ascending=False).head(5)"
      ],
      "execution_count": 0,
      "outputs": []
    },
    {
      "cell_type": "markdown",
      "metadata": {
        "id": "Yr8LpSswZ_HV",
        "colab_type": "text"
      },
      "source": [
        "O método **filter()**, filtra o dataframe pelo nome das colunas, por exemplo:"
      ]
    },
    {
      "cell_type": "code",
      "metadata": {
        "id": "FzTKAWMsd_U4",
        "colab_type": "code",
        "colab": {}
      },
      "source": [
        "data.filter(like='ingresso')"
      ],
      "execution_count": 0,
      "outputs": []
    },
    {
      "cell_type": "markdown",
      "metadata": {
        "id": "wD038RycMPKZ",
        "colab_type": "text"
      },
      "source": [
        "O método **'value_counts()'** retorna dados estatísticos das colunas numericas do dataframe"
      ]
    },
    {
      "cell_type": "code",
      "metadata": {
        "id": "-ECoZ7U4DG2A",
        "colab_type": "code",
        "colab": {}
      },
      "source": [
        "data['nome_curso'].value_counts()"
      ],
      "execution_count": 0,
      "outputs": []
    },
    {
      "cell_type": "markdown",
      "metadata": {
        "id": "I0fb6cKPL-wL",
        "colab_type": "text"
      },
      "source": [
        "Uma maneira de filtrar pelos valores das colunas é:\n",
        "\n",
        "\n",
        "\n",
        "```\n",
        "data[data[\"forma_ingresso\"] == \"REINGRESSO SEGUNDO CICLO\"]\n",
        "```\n",
        "\n",
        "Assim ele traz todos os registros do dataframe onde a **forma_ingresso** tenha valor **REINGRESSO SEGUNDO CICLO** \n",
        "\n",
        "Podemos combinar expressões com os operadores &, |, ~ ao invés de and, or, not! "
      ]
    },
    {
      "cell_type": "code",
      "metadata": {
        "id": "q0oc1e_PCDii",
        "colab_type": "code",
        "colab": {}
      },
      "source": [
        "data[~(data[\"forma_ingresso\"] == \"REINGRESSO SEGUNDO CICLO\")]"
      ],
      "execution_count": 0,
      "outputs": []
    }
  ]
}