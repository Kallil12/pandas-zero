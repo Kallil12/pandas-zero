{
  "nbformat": 4,
  "nbformat_minor": 0,
  "metadata": {
    "colab": {
      "name": "DataframeBD.ipynb",
      "provenance": [],
      "collapsed_sections": []
    },
    "kernelspec": {
      "name": "python3",
      "display_name": "Python 3"
    }
  },
  "cells": [
    {
      "cell_type": "markdown",
      "metadata": {
        "id": "E-vde5UCQRkQ",
        "colab_type": "text"
      },
      "source": [
        "# Dataframes como bancos de dados"
      ]
    },
    {
      "cell_type": "markdown",
      "metadata": {
        "id": "9He81AacH7Dk",
        "colab_type": "text"
      },
      "source": [
        "Os dataframes do Pandas oferecem diferentes formas de consultar dados.\n",
        "\n",
        "Em alguns casos, essas consultas podem se tornar tão elaboradas como em bancos de dados tradicionais.\n",
        "\n",
        "Neste notebook, vamos ver como fazer consultas simples a um dataset carregado da internet.\n",
        "\n",
        "## Carregando dados da internet\n",
        "Há várias formas de se trabalhar com dados carregados da internet. \n",
        "\n",
        "Aqui, vamos baixar o dataset usando uma ferramenta Linux e carregá-lo no Pandas."
      ]
    },
    {
      "cell_type": "markdown",
      "metadata": {
        "id": "MyR5JpdlW4Oq",
        "colab_type": "text"
      },
      "source": [
        "### Baixando um dataset com `wget`\n",
        "\n",
        "A execução de um notebook no Colab é feita em um computador na infraestrutura da Google.\n",
        "\n",
        "Os computadores da Google usam o sistema operacional Linux e nós podemos aproveitar isso quando algum programa do Linux pode nos ajudar.\n",
        "\n",
        "Um exemplo é o programa ``wget``, que baixa a URL que informamos.\n",
        "\n",
        "Para rodar um programa Linux no Colab, temos que fazer isso pelas células de código, usando comandos do terminal Linux iniciados pelo símbolo ``!``\n",
        "\n",
        "Nesse caso, usei o ``wget`` para fazer o download de um dataset do portal de dados abertos da UFRN que contém os discentes ingressantes em 2019:"
      ]
    },
    {
      "cell_type": "code",
      "metadata": {
        "id": "OxJWg_znp9sr",
        "colab_type": "code",
        "outputId": "1a6769d4-ec2c-404a-acb4-5f8fd1c0f0a8",
        "colab": {
          "base_uri": "https://localhost:8080/",
          "height": 244
        }
      },
      "source": [
        "!wget http://dados.ufrn.br/dataset/554c2d41-cfce-4278-93c6-eb9aa49c5d16/resource/a55aef81-e094-4267-8643-f283524e3dd7/download/discentes-2019.csv"
      ],
      "execution_count": 57,
      "outputs": [
        {
          "output_type": "stream",
          "text": [
            "--2019-10-28 14:33:45--  http://dados.ufrn.br/dataset/554c2d41-cfce-4278-93c6-eb9aa49c5d16/resource/a55aef81-e094-4267-8643-f283524e3dd7/download/discentes-2019.csv\n",
            "Resolving dados.ufrn.br (dados.ufrn.br)... 177.20.146.38\n",
            "Connecting to dados.ufrn.br (dados.ufrn.br)|177.20.146.38|:80... connected.\n",
            "HTTP request sent, awaiting response... 200 OK\n",
            "Length: 4008379 (3.8M) [text/csv]\n",
            "Saving to: ‘discentes-2019.csv.1’\n",
            "\n",
            "discentes-2019.csv. 100%[===================>]   3.82M  1.88MB/s    in 2.0s    \n",
            "\n",
            "2019-10-28 14:33:48 (1.88 MB/s) - ‘discentes-2019.csv.1’ saved [4008379/4008379]\n",
            "\n"
          ],
          "name": "stdout"
        }
      ]
    },
    {
      "cell_type": "markdown",
      "metadata": {
        "id": "uGNACj0msDF4",
        "colab_type": "text"
      },
      "source": [
        "O arquivo ``discentes-2019.csv`` deve aparecer na lista de arquivos do lado esquerdo da tela.\n",
        "\n",
        "### Carregando o dataset\n",
        "\n",
        "Vamos carregar o arquivo como um dataframe do Pandas:"
      ]
    },
    {
      "cell_type": "code",
      "metadata": {
        "id": "gwSjQx6bvTCM",
        "colab_type": "code",
        "outputId": "dde41aa7-4e0f-48ba-b1c2-15b65e388055",
        "colab": {
          "base_uri": "https://localhost:8080/",
          "height": 533
        }
      },
      "source": [
        "import pandas as pd\n",
        "data = pd.read_csv('discentes-2019.csv', sep=';')\n",
        "data.head()"
      ],
      "execution_count": 58,
      "outputs": [
        {
          "output_type": "execute_result",
          "data": {
            "text/html": [
              "<div>\n",
              "<style scoped>\n",
              "    .dataframe tbody tr th:only-of-type {\n",
              "        vertical-align: middle;\n",
              "    }\n",
              "\n",
              "    .dataframe tbody tr th {\n",
              "        vertical-align: top;\n",
              "    }\n",
              "\n",
              "    .dataframe thead th {\n",
              "        text-align: right;\n",
              "    }\n",
              "</style>\n",
              "<table border=\"1\" class=\"dataframe\">\n",
              "  <thead>\n",
              "    <tr style=\"text-align: right;\">\n",
              "      <th></th>\n",
              "      <th>matricula</th>\n",
              "      <th>nome_discente</th>\n",
              "      <th>sexo</th>\n",
              "      <th>ano_ingresso</th>\n",
              "      <th>periodo_ingresso</th>\n",
              "      <th>forma_ingresso</th>\n",
              "      <th>tipo_discente</th>\n",
              "      <th>status</th>\n",
              "      <th>sigla_nivel_ensino</th>\n",
              "      <th>nivel_ensino</th>\n",
              "      <th>id_curso</th>\n",
              "      <th>nome_curso</th>\n",
              "      <th>modalidade_educacao</th>\n",
              "      <th>id_unidade</th>\n",
              "      <th>nome_unidade</th>\n",
              "      <th>id_unidade_gestora</th>\n",
              "      <th>nome_unidade_gestora</th>\n",
              "    </tr>\n",
              "  </thead>\n",
              "  <tbody>\n",
              "    <tr>\n",
              "      <th>0</th>\n",
              "      <td>20193012209</td>\n",
              "      <td>ABDENOR BEZERRA DOS SANTOS</td>\n",
              "      <td>M</td>\n",
              "      <td>2019</td>\n",
              "      <td>1.0</td>\n",
              "      <td>PROCESSO SELETIVO</td>\n",
              "      <td>REGULAR</td>\n",
              "      <td>ATIVO</td>\n",
              "      <td>T</td>\n",
              "      <td>TÉCNICO</td>\n",
              "      <td>96054058.0</td>\n",
              "      <td>CURSO TÉCNICO DA METRÓPOLE DIGITAL</td>\n",
              "      <td>SEMI-PRESENCIAL</td>\n",
              "      <td>6069.0</td>\n",
              "      <td>INSTITUTO METROPOLE DIGITAL</td>\n",
              "      <td>605.0</td>\n",
              "      <td>UNIVERSIDADE FEDERAL DO RIO GRANDE DO NORTE</td>\n",
              "    </tr>\n",
              "    <tr>\n",
              "      <th>1</th>\n",
              "      <td>20190088900</td>\n",
              "      <td>ABDIAS MONTEIRO DE ANDRADE MELO</td>\n",
              "      <td>M</td>\n",
              "      <td>2019</td>\n",
              "      <td>1.0</td>\n",
              "      <td>SiSU</td>\n",
              "      <td>REGULAR</td>\n",
              "      <td>ATIVO</td>\n",
              "      <td>G</td>\n",
              "      <td>GRADUAÇÃO</td>\n",
              "      <td>111635060.0</td>\n",
              "      <td>HISTÓRIA</td>\n",
              "      <td>PRESENCIAL</td>\n",
              "      <td>1482.0</td>\n",
              "      <td>CENTRO DE  ENSINO SUPERIOR DO SERIDÓ</td>\n",
              "      <td>1482.0</td>\n",
              "      <td>CENTRO DE  ENSINO SUPERIOR DO SERIDÓ</td>\n",
              "    </tr>\n",
              "    <tr>\n",
              "      <th>2</th>\n",
              "      <td>20190127606</td>\n",
              "      <td>ABDIAS SABINO RODRIGUES FILHO</td>\n",
              "      <td>M</td>\n",
              "      <td>2019</td>\n",
              "      <td>1.0</td>\n",
              "      <td>SiSU</td>\n",
              "      <td>REGULAR</td>\n",
              "      <td>CANCELADO</td>\n",
              "      <td>G</td>\n",
              "      <td>GRADUAÇÃO</td>\n",
              "      <td>111635060.0</td>\n",
              "      <td>HISTÓRIA</td>\n",
              "      <td>PRESENCIAL</td>\n",
              "      <td>1482.0</td>\n",
              "      <td>CENTRO DE  ENSINO SUPERIOR DO SERIDÓ</td>\n",
              "      <td>1482.0</td>\n",
              "      <td>CENTRO DE  ENSINO SUPERIOR DO SERIDÓ</td>\n",
              "    </tr>\n",
              "    <tr>\n",
              "      <th>3</th>\n",
              "      <td>20195001008</td>\n",
              "      <td>ABEL GOMES DE OLIVEIRA FILHO</td>\n",
              "      <td>M</td>\n",
              "      <td>2019</td>\n",
              "      <td>1.0</td>\n",
              "      <td>PROCESSO SELETIVO</td>\n",
              "      <td>REGULAR</td>\n",
              "      <td>ATIVO</td>\n",
              "      <td>F</td>\n",
              "      <td>FORMAÇÃO COMPLEMENTAR</td>\n",
              "      <td>112718836.0</td>\n",
              "      <td>CURSO DE LÍNGUA BRASILEIRA DE SINAIS (LIBRAS)</td>\n",
              "      <td>PRESENCIAL</td>\n",
              "      <td>6042.0</td>\n",
              "      <td>INSTITUTO ÁGORA - LÍNGUAS, LITERATURAS E CULTU...</td>\n",
              "      <td>442.0</td>\n",
              "      <td>CENTRO DE CIÊNCIAS HUMANAS, LETRAS E ARTES</td>\n",
              "    </tr>\n",
              "    <tr>\n",
              "      <th>4</th>\n",
              "      <td>20190032217</td>\n",
              "      <td>ABI AMANA DE AQUINO BEZERRA</td>\n",
              "      <td>F</td>\n",
              "      <td>2019</td>\n",
              "      <td>2.0</td>\n",
              "      <td>SiSU</td>\n",
              "      <td>REGULAR</td>\n",
              "      <td>ATIVO</td>\n",
              "      <td>G</td>\n",
              "      <td>GRADUAÇÃO</td>\n",
              "      <td>119512361.0</td>\n",
              "      <td>COMUNICAÇÃO SOCIAL - AUDIOVISUAL</td>\n",
              "      <td>PRESENCIAL</td>\n",
              "      <td>442.0</td>\n",
              "      <td>CENTRO DE CIÊNCIAS HUMANAS, LETRAS E ARTES</td>\n",
              "      <td>442.0</td>\n",
              "      <td>CENTRO DE CIÊNCIAS HUMANAS, LETRAS E ARTES</td>\n",
              "    </tr>\n",
              "  </tbody>\n",
              "</table>\n",
              "</div>"
            ],
            "text/plain": [
              "     matricula  ...                         nome_unidade_gestora\n",
              "0  20193012209  ...  UNIVERSIDADE FEDERAL DO RIO GRANDE DO NORTE\n",
              "1  20190088900  ...         CENTRO DE  ENSINO SUPERIOR DO SERIDÓ\n",
              "2  20190127606  ...         CENTRO DE  ENSINO SUPERIOR DO SERIDÓ\n",
              "3  20195001008  ...   CENTRO DE CIÊNCIAS HUMANAS, LETRAS E ARTES\n",
              "4  20190032217  ...   CENTRO DE CIÊNCIAS HUMANAS, LETRAS E ARTES\n",
              "\n",
              "[5 rows x 17 columns]"
            ]
          },
          "metadata": {
            "tags": []
          },
          "execution_count": 58
        }
      ]
    },
    {
      "cell_type": "markdown",
      "metadata": {
        "id": "cxMtfVo6sqgl",
        "colab_type": "text"
      },
      "source": [
        "Caso você tenha tido alguma dúvida, vamos rever o código acima:\n",
        " - ```python\n",
        " import pandas as pd\n",
        " ```\n",
        " Importamos o Pandas e pedimos para chamá-lo de ``pd``\n",
        " ```python\n",
        "data = pd.read_csv('discentes-2019.csv', sep=';')\n",
        " ```\n",
        " - Como usamos um nome para o Pandas, todos os seus comandos serão localizados a partir desse nome (ex.: ``pd.read_csv()``)\n",
        " - Informamos o caracter que é usado no dataset como delimitador de características usando a opção ``sep=';'`` (normalmente o Pandas consegue detectar isso automaticamente, mas em datasets brasileiros é comum dar errado)\n",
        " ```python\n",
        " data.head()\n",
        " ```\n",
        " Visualizamos as primeiras observações do dataset com o método ``head()``\n"
      ]
    },
    {
      "cell_type": "markdown",
      "metadata": {
        "id": "0bLccn8pwD8o",
        "colab_type": "text"
      },
      "source": [
        "## Consultando um dataframe\n",
        "\n",
        "Bom, já temos nosso dataframe pronto para consultas.\n",
        "\n",
        "As formas mais simples de consulta são a **indexação** e o **fatiamento**.\n",
        "\n",
        "### Indexando um dataset\n",
        "\n",
        "Consultas em um dataframe Pandas são feitas a partir de **índices**.\n",
        "\n",
        "O índice principal em um dataframe é o das colunas, que representam as características:\n",
        "\n"
      ]
    },
    {
      "cell_type": "code",
      "metadata": {
        "id": "EPanQZfunULU",
        "colab_type": "code",
        "outputId": "affb92df-917d-4196-f11f-b388be25be2d",
        "colab": {
          "base_uri": "https://localhost:8080/",
          "height": 119
        }
      },
      "source": [
        "data.columns"
      ],
      "execution_count": 59,
      "outputs": [
        {
          "output_type": "execute_result",
          "data": {
            "text/plain": [
              "Index(['matricula', 'nome_discente', 'sexo', 'ano_ingresso',\n",
              "       'periodo_ingresso', 'forma_ingresso', 'tipo_discente', 'status',\n",
              "       'sigla_nivel_ensino', 'nivel_ensino', 'id_curso', 'nome_curso',\n",
              "       'modalidade_educacao', 'id_unidade', 'nome_unidade',\n",
              "       'id_unidade_gestora', 'nome_unidade_gestora'],\n",
              "      dtype='object')"
            ]
          },
          "metadata": {
            "tags": []
          },
          "execution_count": 59
        }
      ]
    },
    {
      "cell_type": "markdown",
      "metadata": {
        "id": "Q99w62hIGwxo",
        "colab_type": "text"
      },
      "source": [
        "A resposta do Pandas é um pouco verbosa (poluída), mas a parte que nos importa é a lista de nomes de colunas.\n",
        "\n",
        "Em Python, uma lista é representada pela notação `[elemento_1, elemento_2, ..., elemento_n]`:\n",
        "\n",
        "````python\n",
        "['matricula', 'nome_discente', 'sexo', 'ano_ingresso',\n",
        "'periodo_ingresso', 'forma_ingresso', 'tipo_discente', 'status',\n",
        "'sigla_nivel_ensino', 'nivel_ensino', 'id_curso', 'nome_curso',\n",
        "'modalidade_educacao', 'id_unidade', 'nome_unidade',\n",
        "'id_unidade_gestora', 'nome_unidade_gestora']\n",
        "````\n"
      ]
    },
    {
      "cell_type": "markdown",
      "metadata": {
        "id": "QQkfJXoWHJ18",
        "colab_type": "text"
      },
      "source": [
        "Isto significa que podemos acessar qualquer uma dessas colunas do dataframe usando as notações `data['nome_da_coluna']` e `data.nome_da_coluna`\n",
        "\n",
        "Como cada coluna é considerada uma série (objeto do tipo `Series`), podemos usar os métodos desse tipo:"
      ]
    },
    {
      "cell_type": "code",
      "metadata": {
        "id": "PWnsq32eHJTB",
        "colab_type": "code",
        "outputId": "1c87ed8b-f57d-480a-b04d-bd7e06453930",
        "colab": {
          "base_uri": "https://localhost:8080/",
          "height": 119
        }
      },
      "source": [
        "data[\"nome_discente\"].head()"
      ],
      "execution_count": 60,
      "outputs": [
        {
          "output_type": "execute_result",
          "data": {
            "text/plain": [
              "0         ABDENOR BEZERRA DOS SANTOS\n",
              "1    ABDIAS MONTEIRO DE ANDRADE MELO\n",
              "2      ABDIAS SABINO RODRIGUES FILHO\n",
              "3       ABEL GOMES DE OLIVEIRA FILHO\n",
              "4        ABI AMANA DE AQUINO BEZERRA\n",
              "Name: nome_discente, dtype: object"
            ]
          },
          "metadata": {
            "tags": []
          },
          "execution_count": 60
        }
      ]
    },
    {
      "cell_type": "code",
      "metadata": {
        "id": "PKFVIl4uJO_w",
        "colab_type": "code",
        "outputId": "47f4af3a-60a3-44d1-887e-b2a8bcf77e3b",
        "colab": {
          "base_uri": "https://localhost:8080/",
          "height": 119
        }
      },
      "source": [
        "data.nome_unidade.tail()"
      ],
      "execution_count": 61,
      "outputs": [
        {
          "output_type": "execute_result",
          "data": {
            "text/plain": [
              "15816                                                  NaN\n",
              "15817    FACULDADE DE CIÊNCIAS DA SAÚDE DO TRAIRI - FACISA\n",
              "15818                                   CENTRO DE EDUCAÇÃO\n",
              "15819                          CENTRO DE CIÊNCIAS DA SAÚDE\n",
              "15820    INSTITUTO ÁGORA - LÍNGUAS, LITERATURAS E CULTU...\n",
              "Name: nome_unidade, dtype: object"
            ]
          },
          "metadata": {
            "tags": []
          },
          "execution_count": 61
        }
      ]
    },
    {
      "cell_type": "markdown",
      "metadata": {
        "id": "MuP5PPjsJY4p",
        "colab_type": "text"
      },
      "source": [
        "Os dados em uma série também estão indexados. \n",
        "\n",
        "Podemos acessá-los individualmente usando a notação `série[número_da_linha]`:"
      ]
    },
    {
      "cell_type": "code",
      "metadata": {
        "id": "kiTFTNURKj1y",
        "colab_type": "code",
        "outputId": "95f1b079-093b-4d86-ad5d-c0b57b219e38",
        "colab": {
          "base_uri": "https://localhost:8080/",
          "height": 34
        }
      },
      "source": [
        "nomes_discentes = data[\"nome_discente\"]\n",
        "nomes_discentes[0]"
      ],
      "execution_count": 62,
      "outputs": [
        {
          "output_type": "execute_result",
          "data": {
            "text/plain": [
              "'ABDENOR BEZERRA DOS SANTOS'"
            ]
          },
          "metadata": {
            "tags": []
          },
          "execution_count": 62
        }
      ]
    },
    {
      "cell_type": "code",
      "metadata": {
        "id": "FXpX4DS1LWCw",
        "colab_type": "code",
        "outputId": "fe06d6e9-03ca-4d08-ed0c-1efd84d2bae3",
        "colab": {
          "base_uri": "https://localhost:8080/",
          "height": 34
        }
      },
      "source": [
        "data[\"nome_discente\"][0]"
      ],
      "execution_count": 63,
      "outputs": [
        {
          "output_type": "execute_result",
          "data": {
            "text/plain": [
              "'ABDENOR BEZERRA DOS SANTOS'"
            ]
          },
          "metadata": {
            "tags": []
          },
          "execution_count": 63
        }
      ]
    },
    {
      "cell_type": "code",
      "metadata": {
        "id": "HcZGxZm1LiXQ",
        "colab_type": "code",
        "outputId": "97cb6805-3674-4532-db9f-aebfcb2f8107",
        "colab": {
          "base_uri": "https://localhost:8080/",
          "height": 34
        }
      },
      "source": [
        "data.nome_unidade[0]"
      ],
      "execution_count": 64,
      "outputs": [
        {
          "output_type": "execute_result",
          "data": {
            "text/plain": [
              "'INSTITUTO METROPOLE DIGITAL'"
            ]
          },
          "metadata": {
            "tags": []
          },
          "execution_count": 64
        }
      ]
    },
    {
      "cell_type": "markdown",
      "metadata": {
        "id": "Zd8LWkveyWBv",
        "colab_type": "text"
      },
      "source": [
        "Também é possível acessar diretamente os dados usando os métodos `loc` e `iloc`:\n",
        "- Se referindo às colunas pelos seus nomes, usando a notação `data.loc[linha, nome_coluna]`\n",
        ":"
      ]
    },
    {
      "cell_type": "code",
      "metadata": {
        "id": "WgePGZkWNOU1",
        "colab_type": "code",
        "outputId": "47c6b513-a28d-4f01-99af-324691abd51b",
        "colab": {
          "base_uri": "https://localhost:8080/",
          "height": 34
        }
      },
      "source": [
        "data.loc[0, \"nome_discente\"]"
      ],
      "execution_count": 65,
      "outputs": [
        {
          "output_type": "execute_result",
          "data": {
            "text/plain": [
              "'ABDENOR BEZERRA DOS SANTOS'"
            ]
          },
          "metadata": {
            "tags": []
          },
          "execution_count": 65
        }
      ]
    },
    {
      "cell_type": "markdown",
      "metadata": {
        "id": "mWl7e570OUP0",
        "colab_type": "text"
      },
      "source": [
        "- Se referindo às colunas pela sua posição no índice de colunas, usando a notação `data.iloc[linha, índice_coluna]`"
      ]
    },
    {
      "cell_type": "code",
      "metadata": {
        "id": "T7Gq23b2Nohl",
        "colab_type": "code",
        "outputId": "97defd4e-ec72-4f11-8185-2658cd47bfc9",
        "colab": {
          "base_uri": "https://localhost:8080/",
          "height": 34
        }
      },
      "source": [
        "data.iloc[0, 1]"
      ],
      "execution_count": 66,
      "outputs": [
        {
          "output_type": "execute_result",
          "data": {
            "text/plain": [
              "'ABDENOR BEZERRA DOS SANTOS'"
            ]
          },
          "metadata": {
            "tags": []
          },
          "execution_count": 66
        }
      ]
    },
    {
      "cell_type": "markdown",
      "metadata": {
        "id": "BcDrpBu1Ph04",
        "colab_type": "text"
      },
      "source": [
        "Note que os índices são contados a partir do número 0. Como `\"nome_discente\"` é a segunda coluna, usamos o índice 1 para acessá-la.\n",
        "\n",
        "Os métodos `loc` e `iloc` também aceitam que você informe uma lista de índices."
      ]
    },
    {
      "cell_type": "code",
      "metadata": {
        "id": "7QUL-EOQQn2o",
        "colab_type": "code",
        "outputId": "fd0410bf-80c2-438d-eb29-6f678b160024",
        "colab": {
          "base_uri": "https://localhost:8080/",
          "height": 68
        }
      },
      "source": [
        "data.loc[0, [\"nome_discente\",\"nome_curso\"]]"
      ],
      "execution_count": 67,
      "outputs": [
        {
          "output_type": "execute_result",
          "data": {
            "text/plain": [
              "nome_discente            ABDENOR BEZERRA DOS SANTOS\n",
              "nome_curso       CURSO TÉCNICO DA METRÓPOLE DIGITAL\n",
              "Name: 0, dtype: object"
            ]
          },
          "metadata": {
            "tags": []
          },
          "execution_count": 67
        }
      ]
    },
    {
      "cell_type": "code",
      "metadata": {
        "id": "p8oN5MMZRBwi",
        "colab_type": "code",
        "outputId": "46019a5a-2e43-49f2-98e2-301dafc03fa7",
        "colab": {
          "base_uri": "https://localhost:8080/",
          "height": 85
        }
      },
      "source": [
        "data.iloc[[1,3,7], 1]"
      ],
      "execution_count": 68,
      "outputs": [
        {
          "output_type": "execute_result",
          "data": {
            "text/plain": [
              "1        ABDIAS MONTEIRO DE ANDRADE MELO\n",
              "3           ABEL GOMES DE OLIVEIRA FILHO\n",
              "7    ABIGAIL SARA PALOMA SILVA DAMASCENO\n",
              "Name: nome_discente, dtype: object"
            ]
          },
          "metadata": {
            "tags": []
          },
          "execution_count": 68
        }
      ]
    },
    {
      "cell_type": "markdown",
      "metadata": {
        "id": "ogHt3AlMRG5i",
        "colab_type": "text"
      },
      "source": [
        "**Observação:** Para quem conhece um pouco mais sobre Python, os métodos `loc` e `iloc` aceitam qualquer tipo iterável."
      ]
    },
    {
      "cell_type": "markdown",
      "metadata": {
        "id": "hjtzZhzlP-ku",
        "colab_type": "text"
      },
      "source": [
        "### Fatiando um dataset"
      ]
    },
    {
      "cell_type": "markdown",
      "metadata": {
        "id": "iN1qf9NgNpVN",
        "colab_type": "text"
      },
      "source": [
        "Na maioria das vezes, nosso interesse é em um bloco contíguo de linhas e/ou colunas.\n",
        "\n",
        "Isso pode ser feito através de operações de fatiamento:\n",
        "- Por linhas, usando a notação `data.loc[linha_início:linha_fim, nome_coluna]`:"
      ]
    },
    {
      "cell_type": "code",
      "metadata": {
        "id": "AJPtTJxqDmTD",
        "colab_type": "code",
        "outputId": "1c695ee4-1205-41ab-bd42-cb22142d56a5",
        "colab": {
          "base_uri": "https://localhost:8080/",
          "height": 221
        }
      },
      "source": [
        "data.loc[0:500,'nome_discente']"
      ],
      "execution_count": 69,
      "outputs": [
        {
          "output_type": "execute_result",
          "data": {
            "text/plain": [
              "0            ABDENOR BEZERRA DOS SANTOS\n",
              "1       ABDIAS MONTEIRO DE ANDRADE MELO\n",
              "2         ABDIAS SABINO RODRIGUES FILHO\n",
              "3          ABEL GOMES DE OLIVEIRA FILHO\n",
              "4           ABI AMANA DE AQUINO BEZERRA\n",
              "                     ...               \n",
              "496              ALINE RIBEIRO DA SILVA\n",
              "497    ALINE RITA MEDEIROS VILAR ARAUJO\n",
              "498          ALINE ROCHA DE PAIVA COSTA\n",
              "499         ALINE SAMARA SILVA DA CUNHA\n",
              "500      ALINE SARMENTO ALBINO DA SILVA\n",
              "Name: nome_discente, Length: 501, dtype: object"
            ]
          },
          "metadata": {
            "tags": []
          },
          "execution_count": 69
        }
      ]
    },
    {
      "cell_type": "markdown",
      "metadata": {
        "id": "tETV_5sCOcoQ",
        "colab_type": "text"
      },
      "source": [
        "* Por linhas e colunas, usando a notação `data.loc[linha_início:linha_fim, coluna_início:coluna_fim]`:"
      ]
    },
    {
      "cell_type": "code",
      "metadata": {
        "id": "X716AoGBDvcN",
        "colab_type": "code",
        "outputId": "7c64e654-460a-437b-9e38-6641d0d93a89",
        "colab": {
          "base_uri": "https://localhost:8080/",
          "height": 204
        }
      },
      "source": [
        "data.iloc[0:5, 5:8]"
      ],
      "execution_count": 70,
      "outputs": [
        {
          "output_type": "execute_result",
          "data": {
            "text/html": [
              "<div>\n",
              "<style scoped>\n",
              "    .dataframe tbody tr th:only-of-type {\n",
              "        vertical-align: middle;\n",
              "    }\n",
              "\n",
              "    .dataframe tbody tr th {\n",
              "        vertical-align: top;\n",
              "    }\n",
              "\n",
              "    .dataframe thead th {\n",
              "        text-align: right;\n",
              "    }\n",
              "</style>\n",
              "<table border=\"1\" class=\"dataframe\">\n",
              "  <thead>\n",
              "    <tr style=\"text-align: right;\">\n",
              "      <th></th>\n",
              "      <th>forma_ingresso</th>\n",
              "      <th>tipo_discente</th>\n",
              "      <th>status</th>\n",
              "    </tr>\n",
              "  </thead>\n",
              "  <tbody>\n",
              "    <tr>\n",
              "      <th>0</th>\n",
              "      <td>PROCESSO SELETIVO</td>\n",
              "      <td>REGULAR</td>\n",
              "      <td>ATIVO</td>\n",
              "    </tr>\n",
              "    <tr>\n",
              "      <th>1</th>\n",
              "      <td>SiSU</td>\n",
              "      <td>REGULAR</td>\n",
              "      <td>ATIVO</td>\n",
              "    </tr>\n",
              "    <tr>\n",
              "      <th>2</th>\n",
              "      <td>SiSU</td>\n",
              "      <td>REGULAR</td>\n",
              "      <td>CANCELADO</td>\n",
              "    </tr>\n",
              "    <tr>\n",
              "      <th>3</th>\n",
              "      <td>PROCESSO SELETIVO</td>\n",
              "      <td>REGULAR</td>\n",
              "      <td>ATIVO</td>\n",
              "    </tr>\n",
              "    <tr>\n",
              "      <th>4</th>\n",
              "      <td>SiSU</td>\n",
              "      <td>REGULAR</td>\n",
              "      <td>ATIVO</td>\n",
              "    </tr>\n",
              "  </tbody>\n",
              "</table>\n",
              "</div>"
            ],
            "text/plain": [
              "      forma_ingresso tipo_discente     status\n",
              "0  PROCESSO SELETIVO       REGULAR      ATIVO\n",
              "1               SiSU       REGULAR      ATIVO\n",
              "2               SiSU       REGULAR  CANCELADO\n",
              "3  PROCESSO SELETIVO       REGULAR      ATIVO\n",
              "4               SiSU       REGULAR      ATIVO"
            ]
          },
          "metadata": {
            "tags": []
          },
          "execution_count": 70
        }
      ]
    },
    {
      "cell_type": "markdown",
      "metadata": {
        "id": "PqlltwoMOqsv",
        "colab_type": "text"
      },
      "source": [
        "É importante observar que operações de fatiamento em Python costumam incluir o elemento referido pelo primeiro índice, mas não o elemento referido pelo segundo índice.\n",
        "\n",
        "Assim, no exemplo `data.iloc[0:5, 5:8]` temos 5 linhas e 3 colunas sendo retornadas.\n",
        "\n",
        "O método `loc` foge a esse padrão, incluindo também a linha referida pelo segundo índice.\n",
        "\n",
        "Por isso, o exemplo `data.loc[0:500,'nome_discente']` retorna 501 linhas.\n",
        "\n",
        "Isso acontece porque no método `loc`, é possível fatiar o dataframe também por colunas. Neste caso, faz sentido que a segunda referência seja inclusa:"
      ]
    },
    {
      "cell_type": "code",
      "metadata": {
        "id": "xt4OTMXsPGrH",
        "colab_type": "code",
        "outputId": "ab71d618-a185-4c87-eb22-bbcf2335d777",
        "colab": {
          "base_uri": "https://localhost:8080/",
          "height": 419
        }
      },
      "source": [
        "data.loc[0:500, 'nome_discente':'ano_ingresso']"
      ],
      "execution_count": 71,
      "outputs": [
        {
          "output_type": "execute_result",
          "data": {
            "text/html": [
              "<div>\n",
              "<style scoped>\n",
              "    .dataframe tbody tr th:only-of-type {\n",
              "        vertical-align: middle;\n",
              "    }\n",
              "\n",
              "    .dataframe tbody tr th {\n",
              "        vertical-align: top;\n",
              "    }\n",
              "\n",
              "    .dataframe thead th {\n",
              "        text-align: right;\n",
              "    }\n",
              "</style>\n",
              "<table border=\"1\" class=\"dataframe\">\n",
              "  <thead>\n",
              "    <tr style=\"text-align: right;\">\n",
              "      <th></th>\n",
              "      <th>nome_discente</th>\n",
              "      <th>sexo</th>\n",
              "      <th>ano_ingresso</th>\n",
              "    </tr>\n",
              "  </thead>\n",
              "  <tbody>\n",
              "    <tr>\n",
              "      <th>0</th>\n",
              "      <td>ABDENOR BEZERRA DOS SANTOS</td>\n",
              "      <td>M</td>\n",
              "      <td>2019</td>\n",
              "    </tr>\n",
              "    <tr>\n",
              "      <th>1</th>\n",
              "      <td>ABDIAS MONTEIRO DE ANDRADE MELO</td>\n",
              "      <td>M</td>\n",
              "      <td>2019</td>\n",
              "    </tr>\n",
              "    <tr>\n",
              "      <th>2</th>\n",
              "      <td>ABDIAS SABINO RODRIGUES FILHO</td>\n",
              "      <td>M</td>\n",
              "      <td>2019</td>\n",
              "    </tr>\n",
              "    <tr>\n",
              "      <th>3</th>\n",
              "      <td>ABEL GOMES DE OLIVEIRA FILHO</td>\n",
              "      <td>M</td>\n",
              "      <td>2019</td>\n",
              "    </tr>\n",
              "    <tr>\n",
              "      <th>4</th>\n",
              "      <td>ABI AMANA DE AQUINO BEZERRA</td>\n",
              "      <td>F</td>\n",
              "      <td>2019</td>\n",
              "    </tr>\n",
              "    <tr>\n",
              "      <th>...</th>\n",
              "      <td>...</td>\n",
              "      <td>...</td>\n",
              "      <td>...</td>\n",
              "    </tr>\n",
              "    <tr>\n",
              "      <th>496</th>\n",
              "      <td>ALINE RIBEIRO DA SILVA</td>\n",
              "      <td>F</td>\n",
              "      <td>2019</td>\n",
              "    </tr>\n",
              "    <tr>\n",
              "      <th>497</th>\n",
              "      <td>ALINE RITA MEDEIROS VILAR ARAUJO</td>\n",
              "      <td>F</td>\n",
              "      <td>2019</td>\n",
              "    </tr>\n",
              "    <tr>\n",
              "      <th>498</th>\n",
              "      <td>ALINE ROCHA DE PAIVA COSTA</td>\n",
              "      <td>F</td>\n",
              "      <td>2019</td>\n",
              "    </tr>\n",
              "    <tr>\n",
              "      <th>499</th>\n",
              "      <td>ALINE SAMARA SILVA DA CUNHA</td>\n",
              "      <td>F</td>\n",
              "      <td>2019</td>\n",
              "    </tr>\n",
              "    <tr>\n",
              "      <th>500</th>\n",
              "      <td>ALINE SARMENTO ALBINO DA SILVA</td>\n",
              "      <td>F</td>\n",
              "      <td>2019</td>\n",
              "    </tr>\n",
              "  </tbody>\n",
              "</table>\n",
              "<p>501 rows × 3 columns</p>\n",
              "</div>"
            ],
            "text/plain": [
              "                        nome_discente sexo  ano_ingresso\n",
              "0          ABDENOR BEZERRA DOS SANTOS    M          2019\n",
              "1     ABDIAS MONTEIRO DE ANDRADE MELO    M          2019\n",
              "2       ABDIAS SABINO RODRIGUES FILHO    M          2019\n",
              "3        ABEL GOMES DE OLIVEIRA FILHO    M          2019\n",
              "4         ABI AMANA DE AQUINO BEZERRA    F          2019\n",
              "..                                ...  ...           ...\n",
              "496            ALINE RIBEIRO DA SILVA    F          2019\n",
              "497  ALINE RITA MEDEIROS VILAR ARAUJO    F          2019\n",
              "498        ALINE ROCHA DE PAIVA COSTA    F          2019\n",
              "499       ALINE SAMARA SILVA DA CUNHA    F          2019\n",
              "500    ALINE SARMENTO ALBINO DA SILVA    F          2019\n",
              "\n",
              "[501 rows x 3 columns]"
            ]
          },
          "metadata": {
            "tags": []
          },
          "execution_count": 71
        }
      ]
    },
    {
      "cell_type": "markdown",
      "metadata": {
        "id": "zK2I__X1VaCz",
        "colab_type": "text"
      },
      "source": [
        "## Consultas como em bancos de dados"
      ]
    },
    {
      "cell_type": "markdown",
      "metadata": {
        "id": "7nGWbGXrVdUz",
        "colab_type": "text"
      },
      "source": [
        "As operações de indexação e fatiamento são inerentes à linguagem Python e por isso são implementadas pelo Pandas.\n",
        "\n",
        "Em parte, elas ajudam a operacionalizar a **seleção** e a **projeção** comuns em bancos de dados:\n",
        "- **Seleção**: escolher um subconjunto de observações\n",
        "- **Projeção**: escolher um subconjunto de características\n",
        "\n",
        "Os dataframes do Pandas fornecem mais métodos para estes tipos de consulta."
      ]
    },
    {
      "cell_type": "markdown",
      "metadata": {
        "id": "Yr8LpSswZ_HV",
        "colab_type": "text"
      },
      "source": [
        "#### Pesquisando pelo nome das características\n",
        "\n",
        "O método **filter()** escolhe um subconjunto de características baseado em seu nome:"
      ]
    },
    {
      "cell_type": "code",
      "metadata": {
        "id": "FzTKAWMsd_U4",
        "colab_type": "code",
        "outputId": "19171100-fe27-48e7-9231-10ac9a73ad95",
        "colab": {
          "base_uri": "https://localhost:8080/",
          "height": 419
        }
      },
      "source": [
        "data.filter(like='ingresso')"
      ],
      "execution_count": 72,
      "outputs": [
        {
          "output_type": "execute_result",
          "data": {
            "text/html": [
              "<div>\n",
              "<style scoped>\n",
              "    .dataframe tbody tr th:only-of-type {\n",
              "        vertical-align: middle;\n",
              "    }\n",
              "\n",
              "    .dataframe tbody tr th {\n",
              "        vertical-align: top;\n",
              "    }\n",
              "\n",
              "    .dataframe thead th {\n",
              "        text-align: right;\n",
              "    }\n",
              "</style>\n",
              "<table border=\"1\" class=\"dataframe\">\n",
              "  <thead>\n",
              "    <tr style=\"text-align: right;\">\n",
              "      <th></th>\n",
              "      <th>ano_ingresso</th>\n",
              "      <th>periodo_ingresso</th>\n",
              "      <th>forma_ingresso</th>\n",
              "    </tr>\n",
              "  </thead>\n",
              "  <tbody>\n",
              "    <tr>\n",
              "      <th>0</th>\n",
              "      <td>2019</td>\n",
              "      <td>1.0</td>\n",
              "      <td>PROCESSO SELETIVO</td>\n",
              "    </tr>\n",
              "    <tr>\n",
              "      <th>1</th>\n",
              "      <td>2019</td>\n",
              "      <td>1.0</td>\n",
              "      <td>SiSU</td>\n",
              "    </tr>\n",
              "    <tr>\n",
              "      <th>2</th>\n",
              "      <td>2019</td>\n",
              "      <td>1.0</td>\n",
              "      <td>SiSU</td>\n",
              "    </tr>\n",
              "    <tr>\n",
              "      <th>3</th>\n",
              "      <td>2019</td>\n",
              "      <td>1.0</td>\n",
              "      <td>PROCESSO SELETIVO</td>\n",
              "    </tr>\n",
              "    <tr>\n",
              "      <th>4</th>\n",
              "      <td>2019</td>\n",
              "      <td>2.0</td>\n",
              "      <td>SiSU</td>\n",
              "    </tr>\n",
              "    <tr>\n",
              "      <th>...</th>\n",
              "      <td>...</td>\n",
              "      <td>...</td>\n",
              "      <td>...</td>\n",
              "    </tr>\n",
              "    <tr>\n",
              "      <th>15816</th>\n",
              "      <td>2019</td>\n",
              "      <td>2.0</td>\n",
              "      <td>ALUNO ESPECIAL POS-GRADUACAO</td>\n",
              "    </tr>\n",
              "    <tr>\n",
              "      <th>15817</th>\n",
              "      <td>2019</td>\n",
              "      <td>1.0</td>\n",
              "      <td>PROCESSO SELETIVO</td>\n",
              "    </tr>\n",
              "    <tr>\n",
              "      <th>15818</th>\n",
              "      <td>2019</td>\n",
              "      <td>1.0</td>\n",
              "      <td>SiSU</td>\n",
              "    </tr>\n",
              "    <tr>\n",
              "      <th>15819</th>\n",
              "      <td>2019</td>\n",
              "      <td>2.0</td>\n",
              "      <td>SiSU</td>\n",
              "    </tr>\n",
              "    <tr>\n",
              "      <th>15820</th>\n",
              "      <td>2019</td>\n",
              "      <td>2.0</td>\n",
              "      <td>PROCESSO SELETIVO</td>\n",
              "    </tr>\n",
              "  </tbody>\n",
              "</table>\n",
              "<p>15821 rows × 3 columns</p>\n",
              "</div>"
            ],
            "text/plain": [
              "       ano_ingresso  periodo_ingresso                forma_ingresso\n",
              "0              2019               1.0             PROCESSO SELETIVO\n",
              "1              2019               1.0                          SiSU\n",
              "2              2019               1.0                          SiSU\n",
              "3              2019               1.0             PROCESSO SELETIVO\n",
              "4              2019               2.0                          SiSU\n",
              "...             ...               ...                           ...\n",
              "15816          2019               2.0  ALUNO ESPECIAL POS-GRADUACAO\n",
              "15817          2019               1.0             PROCESSO SELETIVO\n",
              "15818          2019               1.0                          SiSU\n",
              "15819          2019               2.0                          SiSU\n",
              "15820          2019               2.0             PROCESSO SELETIVO\n",
              "\n",
              "[15821 rows x 3 columns]"
            ]
          },
          "metadata": {
            "tags": []
          },
          "execution_count": 72
        }
      ]
    },
    {
      "cell_type": "markdown",
      "metadata": {
        "id": "Vn1YdnXPXOjC",
        "colab_type": "text"
      },
      "source": [
        "O resultado do método **filter** é um novo `DataFrame` que pode ser associado a um novo nome:"
      ]
    },
    {
      "cell_type": "code",
      "metadata": {
        "id": "cdBjaM_RXawY",
        "colab_type": "code",
        "outputId": "6180da2e-8cc3-494f-cb26-91ebd661f4d5",
        "colab": {
          "base_uri": "https://localhost:8080/",
          "height": 204
        }
      },
      "source": [
        "data_ingresso = data.filter(like='ingresso')\n",
        "data_ingresso.head()"
      ],
      "execution_count": 73,
      "outputs": [
        {
          "output_type": "execute_result",
          "data": {
            "text/html": [
              "<div>\n",
              "<style scoped>\n",
              "    .dataframe tbody tr th:only-of-type {\n",
              "        vertical-align: middle;\n",
              "    }\n",
              "\n",
              "    .dataframe tbody tr th {\n",
              "        vertical-align: top;\n",
              "    }\n",
              "\n",
              "    .dataframe thead th {\n",
              "        text-align: right;\n",
              "    }\n",
              "</style>\n",
              "<table border=\"1\" class=\"dataframe\">\n",
              "  <thead>\n",
              "    <tr style=\"text-align: right;\">\n",
              "      <th></th>\n",
              "      <th>ano_ingresso</th>\n",
              "      <th>periodo_ingresso</th>\n",
              "      <th>forma_ingresso</th>\n",
              "    </tr>\n",
              "  </thead>\n",
              "  <tbody>\n",
              "    <tr>\n",
              "      <th>0</th>\n",
              "      <td>2019</td>\n",
              "      <td>1.0</td>\n",
              "      <td>PROCESSO SELETIVO</td>\n",
              "    </tr>\n",
              "    <tr>\n",
              "      <th>1</th>\n",
              "      <td>2019</td>\n",
              "      <td>1.0</td>\n",
              "      <td>SiSU</td>\n",
              "    </tr>\n",
              "    <tr>\n",
              "      <th>2</th>\n",
              "      <td>2019</td>\n",
              "      <td>1.0</td>\n",
              "      <td>SiSU</td>\n",
              "    </tr>\n",
              "    <tr>\n",
              "      <th>3</th>\n",
              "      <td>2019</td>\n",
              "      <td>1.0</td>\n",
              "      <td>PROCESSO SELETIVO</td>\n",
              "    </tr>\n",
              "    <tr>\n",
              "      <th>4</th>\n",
              "      <td>2019</td>\n",
              "      <td>2.0</td>\n",
              "      <td>SiSU</td>\n",
              "    </tr>\n",
              "  </tbody>\n",
              "</table>\n",
              "</div>"
            ],
            "text/plain": [
              "   ano_ingresso  periodo_ingresso     forma_ingresso\n",
              "0          2019               1.0  PROCESSO SELETIVO\n",
              "1          2019               1.0               SiSU\n",
              "2          2019               1.0               SiSU\n",
              "3          2019               1.0  PROCESSO SELETIVO\n",
              "4          2019               2.0               SiSU"
            ]
          },
          "metadata": {
            "tags": []
          },
          "execution_count": 73
        }
      ]
    },
    {
      "cell_type": "markdown",
      "metadata": {
        "id": "I0fb6cKPL-wL",
        "colab_type": "text"
      },
      "source": [
        "### Pesquisando por condições\n",
        "\n",
        "Uma outra maneira de filtrar pelos valores das colunas é através de **condições**.\n",
        "\n",
        "Para isso, usamos a notação `data[condição]`, onde `condição` é uma expressão lógica do Python.\n",
        "\n",
        "Por exemplo, vamos escolher apenas as observações cuja **forma_ingresso** tenha valor **REINGRESSO SEGUNDO CICLO**:"
      ]
    },
    {
      "cell_type": "code",
      "metadata": {
        "id": "q0oc1e_PCDii",
        "colab_type": "code",
        "outputId": "a4cc7904-9415-4da1-e614-07506ae2ded1",
        "colab": {
          "base_uri": "https://localhost:8080/",
          "height": 867
        }
      },
      "source": [
        "data[data[\"forma_ingresso\"] == \"REINGRESSO SEGUNDO CICLO\"]"
      ],
      "execution_count": 74,
      "outputs": [
        {
          "output_type": "execute_result",
          "data": {
            "text/html": [
              "<div>\n",
              "<style scoped>\n",
              "    .dataframe tbody tr th:only-of-type {\n",
              "        vertical-align: middle;\n",
              "    }\n",
              "\n",
              "    .dataframe tbody tr th {\n",
              "        vertical-align: top;\n",
              "    }\n",
              "\n",
              "    .dataframe thead th {\n",
              "        text-align: right;\n",
              "    }\n",
              "</style>\n",
              "<table border=\"1\" class=\"dataframe\">\n",
              "  <thead>\n",
              "    <tr style=\"text-align: right;\">\n",
              "      <th></th>\n",
              "      <th>matricula</th>\n",
              "      <th>nome_discente</th>\n",
              "      <th>sexo</th>\n",
              "      <th>ano_ingresso</th>\n",
              "      <th>periodo_ingresso</th>\n",
              "      <th>forma_ingresso</th>\n",
              "      <th>tipo_discente</th>\n",
              "      <th>status</th>\n",
              "      <th>sigla_nivel_ensino</th>\n",
              "      <th>nivel_ensino</th>\n",
              "      <th>id_curso</th>\n",
              "      <th>nome_curso</th>\n",
              "      <th>modalidade_educacao</th>\n",
              "      <th>id_unidade</th>\n",
              "      <th>nome_unidade</th>\n",
              "      <th>id_unidade_gestora</th>\n",
              "      <th>nome_unidade_gestora</th>\n",
              "    </tr>\n",
              "  </thead>\n",
              "  <tbody>\n",
              "    <tr>\n",
              "      <th>38</th>\n",
              "      <td>20190000518</td>\n",
              "      <td>ADELINO AFONSO FERNANDES AVELINO</td>\n",
              "      <td>M</td>\n",
              "      <td>2019</td>\n",
              "      <td>1.0</td>\n",
              "      <td>REINGRESSO SEGUNDO CICLO</td>\n",
              "      <td>REGULAR</td>\n",
              "      <td>ATIVO</td>\n",
              "      <td>G</td>\n",
              "      <td>GRADUAÇÃO</td>\n",
              "      <td>17848940.0</td>\n",
              "      <td>ENGENHARIA DE SOFTWARE</td>\n",
              "      <td>PRESENCIAL</td>\n",
              "      <td>439.0</td>\n",
              "      <td>CENTRO DE CIÊNCIAS EXATAS E DA TERRA</td>\n",
              "      <td>439.0</td>\n",
              "      <td>CENTRO DE CIÊNCIAS EXATAS E DA TERRA</td>\n",
              "    </tr>\n",
              "    <tr>\n",
              "      <th>141</th>\n",
              "      <td>20190000948</td>\n",
              "      <td>AFFONSO DE FARIA</td>\n",
              "      <td>M</td>\n",
              "      <td>2019</td>\n",
              "      <td>1.0</td>\n",
              "      <td>REINGRESSO SEGUNDO CICLO</td>\n",
              "      <td>REGULAR</td>\n",
              "      <td>ATIVO</td>\n",
              "      <td>G</td>\n",
              "      <td>GRADUAÇÃO</td>\n",
              "      <td>85341136.0</td>\n",
              "      <td>ENGENHARIA BIOMÉDICA</td>\n",
              "      <td>PRESENCIAL</td>\n",
              "      <td>445.0</td>\n",
              "      <td>CENTRO DE TECNOLOGIA</td>\n",
              "      <td>445.0</td>\n",
              "      <td>CENTRO DE TECNOLOGIA</td>\n",
              "    </tr>\n",
              "    <tr>\n",
              "      <th>159</th>\n",
              "      <td>20190152609</td>\n",
              "      <td>AILSON FORTE DOS SANTOS</td>\n",
              "      <td>M</td>\n",
              "      <td>2019</td>\n",
              "      <td>2.0</td>\n",
              "      <td>REINGRESSO SEGUNDO CICLO</td>\n",
              "      <td>REGULAR</td>\n",
              "      <td>ATIVO</td>\n",
              "      <td>G</td>\n",
              "      <td>GRADUAÇÃO</td>\n",
              "      <td>2000013.0</td>\n",
              "      <td>CIÊNCIA DA COMPUTAÇÃO</td>\n",
              "      <td>PRESENCIAL</td>\n",
              "      <td>439.0</td>\n",
              "      <td>CENTRO DE CIÊNCIAS EXATAS E DA TERRA</td>\n",
              "      <td>439.0</td>\n",
              "      <td>CENTRO DE CIÊNCIAS EXATAS E DA TERRA</td>\n",
              "    </tr>\n",
              "    <tr>\n",
              "      <th>170</th>\n",
              "      <td>20190001927</td>\n",
              "      <td>AISSA PALHARES CAVALCANTI</td>\n",
              "      <td>F</td>\n",
              "      <td>2019</td>\n",
              "      <td>1.0</td>\n",
              "      <td>REINGRESSO SEGUNDO CICLO</td>\n",
              "      <td>REGULAR</td>\n",
              "      <td>ATIVO</td>\n",
              "      <td>G</td>\n",
              "      <td>GRADUAÇÃO</td>\n",
              "      <td>2000031.0</td>\n",
              "      <td>ENGENHARIA MECÂNICA</td>\n",
              "      <td>PRESENCIAL</td>\n",
              "      <td>445.0</td>\n",
              "      <td>CENTRO DE TECNOLOGIA</td>\n",
              "      <td>445.0</td>\n",
              "      <td>CENTRO DE TECNOLOGIA</td>\n",
              "    </tr>\n",
              "    <tr>\n",
              "      <th>175</th>\n",
              "      <td>20190002610</td>\n",
              "      <td>ALAILSON FEITOSA</td>\n",
              "      <td>M</td>\n",
              "      <td>2019</td>\n",
              "      <td>1.0</td>\n",
              "      <td>REINGRESSO SEGUNDO CICLO</td>\n",
              "      <td>REGULAR</td>\n",
              "      <td>ATIVO</td>\n",
              "      <td>G</td>\n",
              "      <td>GRADUAÇÃO</td>\n",
              "      <td>85437055.0</td>\n",
              "      <td>ENGENHARIA MECATRÔNICA</td>\n",
              "      <td>PRESENCIAL</td>\n",
              "      <td>445.0</td>\n",
              "      <td>CENTRO DE TECNOLOGIA</td>\n",
              "      <td>445.0</td>\n",
              "      <td>CENTRO DE TECNOLOGIA</td>\n",
              "    </tr>\n",
              "    <tr>\n",
              "      <th>...</th>\n",
              "      <td>...</td>\n",
              "      <td>...</td>\n",
              "      <td>...</td>\n",
              "      <td>...</td>\n",
              "      <td>...</td>\n",
              "      <td>...</td>\n",
              "      <td>...</td>\n",
              "      <td>...</td>\n",
              "      <td>...</td>\n",
              "      <td>...</td>\n",
              "      <td>...</td>\n",
              "      <td>...</td>\n",
              "      <td>...</td>\n",
              "      <td>...</td>\n",
              "      <td>...</td>\n",
              "      <td>...</td>\n",
              "      <td>...</td>\n",
              "    </tr>\n",
              "    <tr>\n",
              "      <th>15739</th>\n",
              "      <td>20190153230</td>\n",
              "      <td>YGOR MATHEUS PEREIRA DE PAULA</td>\n",
              "      <td>M</td>\n",
              "      <td>2019</td>\n",
              "      <td>2.0</td>\n",
              "      <td>REINGRESSO SEGUNDO CICLO</td>\n",
              "      <td>REGULAR</td>\n",
              "      <td>ATIVO</td>\n",
              "      <td>G</td>\n",
              "      <td>GRADUAÇÃO</td>\n",
              "      <td>2000027.0</td>\n",
              "      <td>ENGENHARIA DE MATERIAIS</td>\n",
              "      <td>PRESENCIAL</td>\n",
              "      <td>445.0</td>\n",
              "      <td>CENTRO DE TECNOLOGIA</td>\n",
              "      <td>445.0</td>\n",
              "      <td>CENTRO DE TECNOLOGIA</td>\n",
              "    </tr>\n",
              "    <tr>\n",
              "      <th>15763</th>\n",
              "      <td>20190155914</td>\n",
              "      <td>YSLANE STEPHANIE MACÊDO DOS SANTOS</td>\n",
              "      <td>F</td>\n",
              "      <td>2019</td>\n",
              "      <td>2.0</td>\n",
              "      <td>REINGRESSO SEGUNDO CICLO</td>\n",
              "      <td>REGULAR</td>\n",
              "      <td>ATIVO</td>\n",
              "      <td>G</td>\n",
              "      <td>GRADUAÇÃO</td>\n",
              "      <td>85322571.0</td>\n",
              "      <td>ENGENHARIA AMBIENTAL</td>\n",
              "      <td>PRESENCIAL</td>\n",
              "      <td>445.0</td>\n",
              "      <td>CENTRO DE TECNOLOGIA</td>\n",
              "      <td>445.0</td>\n",
              "      <td>CENTRO DE TECNOLOGIA</td>\n",
              "    </tr>\n",
              "    <tr>\n",
              "      <th>15770</th>\n",
              "      <td>20190000643</td>\n",
              "      <td>YURI ALESSANDRO DANTAS TONHECA MARTINS</td>\n",
              "      <td>M</td>\n",
              "      <td>2019</td>\n",
              "      <td>1.0</td>\n",
              "      <td>REINGRESSO SEGUNDO CICLO</td>\n",
              "      <td>REGULAR</td>\n",
              "      <td>ATIVO</td>\n",
              "      <td>G</td>\n",
              "      <td>GRADUAÇÃO</td>\n",
              "      <td>17848940.0</td>\n",
              "      <td>ENGENHARIA DE SOFTWARE</td>\n",
              "      <td>PRESENCIAL</td>\n",
              "      <td>439.0</td>\n",
              "      <td>CENTRO DE CIÊNCIAS EXATAS E DA TERRA</td>\n",
              "      <td>439.0</td>\n",
              "      <td>CENTRO DE CIÊNCIAS EXATAS E DA TERRA</td>\n",
              "    </tr>\n",
              "    <tr>\n",
              "      <th>15793</th>\n",
              "      <td>20190000652</td>\n",
              "      <td>YURI REINALDO DA SILVA</td>\n",
              "      <td>M</td>\n",
              "      <td>2019</td>\n",
              "      <td>1.0</td>\n",
              "      <td>REINGRESSO SEGUNDO CICLO</td>\n",
              "      <td>REGULAR</td>\n",
              "      <td>ATIVO</td>\n",
              "      <td>G</td>\n",
              "      <td>GRADUAÇÃO</td>\n",
              "      <td>17848940.0</td>\n",
              "      <td>ENGENHARIA DE SOFTWARE</td>\n",
              "      <td>PRESENCIAL</td>\n",
              "      <td>439.0</td>\n",
              "      <td>CENTRO DE CIÊNCIAS EXATAS E DA TERRA</td>\n",
              "      <td>439.0</td>\n",
              "      <td>CENTRO DE CIÊNCIAS EXATAS E DA TERRA</td>\n",
              "    </tr>\n",
              "    <tr>\n",
              "      <th>15812</th>\n",
              "      <td>20190002530</td>\n",
              "      <td>ZEUS JUSTINO DE LIMA</td>\n",
              "      <td>M</td>\n",
              "      <td>2019</td>\n",
              "      <td>1.0</td>\n",
              "      <td>REINGRESSO SEGUNDO CICLO</td>\n",
              "      <td>REGULAR</td>\n",
              "      <td>ATIVO</td>\n",
              "      <td>G</td>\n",
              "      <td>GRADUAÇÃO</td>\n",
              "      <td>85341136.0</td>\n",
              "      <td>ENGENHARIA BIOMÉDICA</td>\n",
              "      <td>PRESENCIAL</td>\n",
              "      <td>445.0</td>\n",
              "      <td>CENTRO DE TECNOLOGIA</td>\n",
              "      <td>445.0</td>\n",
              "      <td>CENTRO DE TECNOLOGIA</td>\n",
              "    </tr>\n",
              "  </tbody>\n",
              "</table>\n",
              "<p>407 rows × 17 columns</p>\n",
              "</div>"
            ],
            "text/plain": [
              "         matricula  ...                  nome_unidade_gestora\n",
              "38     20190000518  ...  CENTRO DE CIÊNCIAS EXATAS E DA TERRA\n",
              "141    20190000948  ...                  CENTRO DE TECNOLOGIA\n",
              "159    20190152609  ...  CENTRO DE CIÊNCIAS EXATAS E DA TERRA\n",
              "170    20190001927  ...                  CENTRO DE TECNOLOGIA\n",
              "175    20190002610  ...                  CENTRO DE TECNOLOGIA\n",
              "...            ...  ...                                   ...\n",
              "15739  20190153230  ...                  CENTRO DE TECNOLOGIA\n",
              "15763  20190155914  ...                  CENTRO DE TECNOLOGIA\n",
              "15770  20190000643  ...  CENTRO DE CIÊNCIAS EXATAS E DA TERRA\n",
              "15793  20190000652  ...  CENTRO DE CIÊNCIAS EXATAS E DA TERRA\n",
              "15812  20190002530  ...                  CENTRO DE TECNOLOGIA\n",
              "\n",
              "[407 rows x 17 columns]"
            ]
          },
          "metadata": {
            "tags": []
          },
          "execution_count": 74
        }
      ]
    },
    {
      "cell_type": "markdown",
      "metadata": {
        "id": "OY0VDG5_jiQv",
        "colab_type": "text"
      },
      "source": [
        "Vamos discutir o exemplo acima:\n",
        "* ```python\n",
        "data[\"forma_ingresso\"] == \"REINGRESSO SEGUNDO CICLO\"\n",
        "````\n",
        "* `data[\"forma_ingresso\"]` é uma série \n",
        "* Comparamos cada valor nesta série com o valor `\"REINGRESSO SEGUNDO CICLO\"` usando o operador de igualdade `==`\n",
        "```python\n",
        "data[data[\"forma_ingresso\"] == \"REINGRESSO SEGUNDO CICLO\"]\n",
        "```\n",
        "Escolhemos apenas as observações que satisfazem essa condição\n",
        "\n",
        "Note que seria possível usar nomes tanto para referência à condição quanto para o `DataFrame` retornado por fim:"
      ]
    },
    {
      "cell_type": "code",
      "metadata": {
        "id": "0mwwuJ7Xkd2g",
        "colab_type": "code",
        "outputId": "46a12175-bac4-424b-c38d-2204004a3826",
        "colab": {
          "base_uri": "https://localhost:8080/",
          "height": 414
        }
      },
      "source": [
        "condição = data[\"forma_ingresso\"] == \"REINGRESSO SEGUNDO CICLO\"\n",
        "data_segundo_ciclo = data[condição]\n",
        "data_segundo_ciclo.head()"
      ],
      "execution_count": 75,
      "outputs": [
        {
          "output_type": "execute_result",
          "data": {
            "text/html": [
              "<div>\n",
              "<style scoped>\n",
              "    .dataframe tbody tr th:only-of-type {\n",
              "        vertical-align: middle;\n",
              "    }\n",
              "\n",
              "    .dataframe tbody tr th {\n",
              "        vertical-align: top;\n",
              "    }\n",
              "\n",
              "    .dataframe thead th {\n",
              "        text-align: right;\n",
              "    }\n",
              "</style>\n",
              "<table border=\"1\" class=\"dataframe\">\n",
              "  <thead>\n",
              "    <tr style=\"text-align: right;\">\n",
              "      <th></th>\n",
              "      <th>matricula</th>\n",
              "      <th>nome_discente</th>\n",
              "      <th>sexo</th>\n",
              "      <th>ano_ingresso</th>\n",
              "      <th>periodo_ingresso</th>\n",
              "      <th>forma_ingresso</th>\n",
              "      <th>tipo_discente</th>\n",
              "      <th>status</th>\n",
              "      <th>sigla_nivel_ensino</th>\n",
              "      <th>nivel_ensino</th>\n",
              "      <th>id_curso</th>\n",
              "      <th>nome_curso</th>\n",
              "      <th>modalidade_educacao</th>\n",
              "      <th>id_unidade</th>\n",
              "      <th>nome_unidade</th>\n",
              "      <th>id_unidade_gestora</th>\n",
              "      <th>nome_unidade_gestora</th>\n",
              "    </tr>\n",
              "  </thead>\n",
              "  <tbody>\n",
              "    <tr>\n",
              "      <th>38</th>\n",
              "      <td>20190000518</td>\n",
              "      <td>ADELINO AFONSO FERNANDES AVELINO</td>\n",
              "      <td>M</td>\n",
              "      <td>2019</td>\n",
              "      <td>1.0</td>\n",
              "      <td>REINGRESSO SEGUNDO CICLO</td>\n",
              "      <td>REGULAR</td>\n",
              "      <td>ATIVO</td>\n",
              "      <td>G</td>\n",
              "      <td>GRADUAÇÃO</td>\n",
              "      <td>17848940.0</td>\n",
              "      <td>ENGENHARIA DE SOFTWARE</td>\n",
              "      <td>PRESENCIAL</td>\n",
              "      <td>439.0</td>\n",
              "      <td>CENTRO DE CIÊNCIAS EXATAS E DA TERRA</td>\n",
              "      <td>439.0</td>\n",
              "      <td>CENTRO DE CIÊNCIAS EXATAS E DA TERRA</td>\n",
              "    </tr>\n",
              "    <tr>\n",
              "      <th>141</th>\n",
              "      <td>20190000948</td>\n",
              "      <td>AFFONSO DE FARIA</td>\n",
              "      <td>M</td>\n",
              "      <td>2019</td>\n",
              "      <td>1.0</td>\n",
              "      <td>REINGRESSO SEGUNDO CICLO</td>\n",
              "      <td>REGULAR</td>\n",
              "      <td>ATIVO</td>\n",
              "      <td>G</td>\n",
              "      <td>GRADUAÇÃO</td>\n",
              "      <td>85341136.0</td>\n",
              "      <td>ENGENHARIA BIOMÉDICA</td>\n",
              "      <td>PRESENCIAL</td>\n",
              "      <td>445.0</td>\n",
              "      <td>CENTRO DE TECNOLOGIA</td>\n",
              "      <td>445.0</td>\n",
              "      <td>CENTRO DE TECNOLOGIA</td>\n",
              "    </tr>\n",
              "    <tr>\n",
              "      <th>159</th>\n",
              "      <td>20190152609</td>\n",
              "      <td>AILSON FORTE DOS SANTOS</td>\n",
              "      <td>M</td>\n",
              "      <td>2019</td>\n",
              "      <td>2.0</td>\n",
              "      <td>REINGRESSO SEGUNDO CICLO</td>\n",
              "      <td>REGULAR</td>\n",
              "      <td>ATIVO</td>\n",
              "      <td>G</td>\n",
              "      <td>GRADUAÇÃO</td>\n",
              "      <td>2000013.0</td>\n",
              "      <td>CIÊNCIA DA COMPUTAÇÃO</td>\n",
              "      <td>PRESENCIAL</td>\n",
              "      <td>439.0</td>\n",
              "      <td>CENTRO DE CIÊNCIAS EXATAS E DA TERRA</td>\n",
              "      <td>439.0</td>\n",
              "      <td>CENTRO DE CIÊNCIAS EXATAS E DA TERRA</td>\n",
              "    </tr>\n",
              "    <tr>\n",
              "      <th>170</th>\n",
              "      <td>20190001927</td>\n",
              "      <td>AISSA PALHARES CAVALCANTI</td>\n",
              "      <td>F</td>\n",
              "      <td>2019</td>\n",
              "      <td>1.0</td>\n",
              "      <td>REINGRESSO SEGUNDO CICLO</td>\n",
              "      <td>REGULAR</td>\n",
              "      <td>ATIVO</td>\n",
              "      <td>G</td>\n",
              "      <td>GRADUAÇÃO</td>\n",
              "      <td>2000031.0</td>\n",
              "      <td>ENGENHARIA MECÂNICA</td>\n",
              "      <td>PRESENCIAL</td>\n",
              "      <td>445.0</td>\n",
              "      <td>CENTRO DE TECNOLOGIA</td>\n",
              "      <td>445.0</td>\n",
              "      <td>CENTRO DE TECNOLOGIA</td>\n",
              "    </tr>\n",
              "    <tr>\n",
              "      <th>175</th>\n",
              "      <td>20190002610</td>\n",
              "      <td>ALAILSON FEITOSA</td>\n",
              "      <td>M</td>\n",
              "      <td>2019</td>\n",
              "      <td>1.0</td>\n",
              "      <td>REINGRESSO SEGUNDO CICLO</td>\n",
              "      <td>REGULAR</td>\n",
              "      <td>ATIVO</td>\n",
              "      <td>G</td>\n",
              "      <td>GRADUAÇÃO</td>\n",
              "      <td>85437055.0</td>\n",
              "      <td>ENGENHARIA MECATRÔNICA</td>\n",
              "      <td>PRESENCIAL</td>\n",
              "      <td>445.0</td>\n",
              "      <td>CENTRO DE TECNOLOGIA</td>\n",
              "      <td>445.0</td>\n",
              "      <td>CENTRO DE TECNOLOGIA</td>\n",
              "    </tr>\n",
              "  </tbody>\n",
              "</table>\n",
              "</div>"
            ],
            "text/plain": [
              "       matricula  ...                  nome_unidade_gestora\n",
              "38   20190000518  ...  CENTRO DE CIÊNCIAS EXATAS E DA TERRA\n",
              "141  20190000948  ...                  CENTRO DE TECNOLOGIA\n",
              "159  20190152609  ...  CENTRO DE CIÊNCIAS EXATAS E DA TERRA\n",
              "170  20190001927  ...                  CENTRO DE TECNOLOGIA\n",
              "175  20190002610  ...                  CENTRO DE TECNOLOGIA\n",
              "\n",
              "[5 rows x 17 columns]"
            ]
          },
          "metadata": {
            "tags": []
          },
          "execution_count": 75
        }
      ]
    },
    {
      "cell_type": "markdown",
      "metadata": {
        "id": "l5S3EdmLp1F8",
        "colab_type": "text"
      },
      "source": [
        "#### Condições e operadores de comparação\n",
        "\n",
        "No exemplo acima, usamos o operador de igualdade. \n",
        "\n",
        "Note que é diferente usar `==` (comparação de igualdade) e `=` (associação de nome a objeto).\n",
        "\n",
        "O Python oferece mais operadores de comparação:\n",
        "\n",
        "| Símbolo | Significado |\n",
        "|:----:|---|\n",
        "| == | Igualdade |\n",
        "| !=  | Diferença |\n",
        "| < | Menor |\n",
        "| > | Maior |\n",
        "| <=  | Menor ou igual |\n",
        "| >=  | Maior ou igual |\n",
        "\n",
        "Também é importante observar que os operadores menor/maior (ou igual) costumam ser aplicados a dados numéricos.\n",
        "\n",
        "Para dados nominais, podemos usar o método `isin()`.\n",
        "\n",
        "Vamos dar uma olhada nos valores existentes para a característica `\"status\"` usando o método `unique()`:"
      ]
    },
    {
      "cell_type": "code",
      "metadata": {
        "id": "EA9ORMrg1yS2",
        "colab_type": "code",
        "colab": {
          "base_uri": "https://localhost:8080/",
          "height": 51
        },
        "outputId": "4cfadcf4-a492-4173-98d9-0fd227b3cdc8"
      },
      "source": [
        "data['status'].unique()"
      ],
      "execution_count": 81,
      "outputs": [
        {
          "output_type": "execute_result",
          "data": {
            "text/plain": [
              "array(['ATIVO', 'CANCELADO', 'CADASTRADO', 'TRANCADO', 'ATIVO - FORMANDO',\n",
              "       'CONCLUÍDO', 'DEFENDIDO'], dtype=object)"
            ]
          },
          "metadata": {
            "tags": []
          },
          "execution_count": 81
        }
      ]
    },
    {
      "cell_type": "markdown",
      "metadata": {
        "id": "6Y7Z7ngK12aq",
        "colab_type": "text"
      },
      "source": [
        "Novamente temos um resultado verboso, mas nos interessa a lista de valores:\n",
        "\n",
        "```python3\n",
        "['ATIVO', 'CANCELADO', 'CADASTRADO', 'TRANCADO', 'ATIVO - FORMANDO',\n",
        "       'CONCLUÍDO', 'DEFENDIDO']\n",
        "````"
      ]
    },
    {
      "cell_type": "markdown",
      "metadata": {
        "id": "TQdwp3y32AaC",
        "colab_type": "text"
      },
      "source": [
        "Vamos escolher apenas as observações cujo status seja \"CANCELADO\" ou \"TRANCADO\":"
      ]
    },
    {
      "cell_type": "code",
      "metadata": {
        "id": "qh-TQoNbsXNC",
        "colab_type": "code",
        "outputId": "7373874e-ec1c-4149-8978-7293e122ea24",
        "colab": {
          "base_uri": "https://localhost:8080/",
          "height": 536
        }
      },
      "source": [
        "condição = data[\"status\"].isin([\"CANCELADO\", \"TRANCADO\"])\n",
        "data_cancelado_trancado = data[condição]\n",
        "data_cancelado_trancado.tail()"
      ],
      "execution_count": 82,
      "outputs": [
        {
          "output_type": "execute_result",
          "data": {
            "text/html": [
              "<div>\n",
              "<style scoped>\n",
              "    .dataframe tbody tr th:only-of-type {\n",
              "        vertical-align: middle;\n",
              "    }\n",
              "\n",
              "    .dataframe tbody tr th {\n",
              "        vertical-align: top;\n",
              "    }\n",
              "\n",
              "    .dataframe thead th {\n",
              "        text-align: right;\n",
              "    }\n",
              "</style>\n",
              "<table border=\"1\" class=\"dataframe\">\n",
              "  <thead>\n",
              "    <tr style=\"text-align: right;\">\n",
              "      <th></th>\n",
              "      <th>matricula</th>\n",
              "      <th>nome_discente</th>\n",
              "      <th>sexo</th>\n",
              "      <th>ano_ingresso</th>\n",
              "      <th>periodo_ingresso</th>\n",
              "      <th>forma_ingresso</th>\n",
              "      <th>tipo_discente</th>\n",
              "      <th>status</th>\n",
              "      <th>sigla_nivel_ensino</th>\n",
              "      <th>nivel_ensino</th>\n",
              "      <th>id_curso</th>\n",
              "      <th>nome_curso</th>\n",
              "      <th>modalidade_educacao</th>\n",
              "      <th>id_unidade</th>\n",
              "      <th>nome_unidade</th>\n",
              "      <th>id_unidade_gestora</th>\n",
              "      <th>nome_unidade_gestora</th>\n",
              "    </tr>\n",
              "  </thead>\n",
              "  <tbody>\n",
              "    <tr>\n",
              "      <th>15780</th>\n",
              "      <td>20190068873</td>\n",
              "      <td>YURI ERICK DANTAS DA LUZ</td>\n",
              "      <td>M</td>\n",
              "      <td>2019</td>\n",
              "      <td>1.0</td>\n",
              "      <td>SiSU</td>\n",
              "      <td>REGULAR</td>\n",
              "      <td>TRANCADO</td>\n",
              "      <td>G</td>\n",
              "      <td>GRADUAÇÃO</td>\n",
              "      <td>2000018.0</td>\n",
              "      <td>DIREITO</td>\n",
              "      <td>PRESENCIAL</td>\n",
              "      <td>443.0</td>\n",
              "      <td>CENTRO DE CIÊNCIAS SOCIAIS APLICADAS</td>\n",
              "      <td>443.0</td>\n",
              "      <td>CENTRO DE CIÊNCIAS SOCIAIS APLICADAS</td>\n",
              "    </tr>\n",
              "    <tr>\n",
              "      <th>15782</th>\n",
              "      <td>20190100460</td>\n",
              "      <td>YURI GUEDES DOS SANTOS</td>\n",
              "      <td>M</td>\n",
              "      <td>2019</td>\n",
              "      <td>1.0</td>\n",
              "      <td>SiSU</td>\n",
              "      <td>REGULAR</td>\n",
              "      <td>CANCELADO</td>\n",
              "      <td>G</td>\n",
              "      <td>GRADUAÇÃO</td>\n",
              "      <td>118834827.0</td>\n",
              "      <td>COMUNICAÇÃO SOCIAL- PUBLICIDADE E PROPAGANDA</td>\n",
              "      <td>PRESENCIAL</td>\n",
              "      <td>442.0</td>\n",
              "      <td>CENTRO DE CIÊNCIAS HUMANAS, LETRAS E ARTES</td>\n",
              "      <td>442.0</td>\n",
              "      <td>CENTRO DE CIÊNCIAS HUMANAS, LETRAS E ARTES</td>\n",
              "    </tr>\n",
              "    <tr>\n",
              "      <th>15788</th>\n",
              "      <td>20195004162</td>\n",
              "      <td>YURI PEDRO DOS SANTOS</td>\n",
              "      <td>M</td>\n",
              "      <td>2019</td>\n",
              "      <td>1.0</td>\n",
              "      <td>PROCESSO SELETIVO</td>\n",
              "      <td>REGULAR</td>\n",
              "      <td>CANCELADO</td>\n",
              "      <td>F</td>\n",
              "      <td>FORMAÇÃO COMPLEMENTAR</td>\n",
              "      <td>86980317.0</td>\n",
              "      <td>CURSO DE LÍNGUA ESPANHOLA - BÁSICO</td>\n",
              "      <td>PRESENCIAL</td>\n",
              "      <td>6042.0</td>\n",
              "      <td>INSTITUTO ÁGORA - LÍNGUAS, LITERATURAS E CULTU...</td>\n",
              "      <td>442.0</td>\n",
              "      <td>CENTRO DE CIÊNCIAS HUMANAS, LETRAS E ARTES</td>\n",
              "    </tr>\n",
              "    <tr>\n",
              "      <th>15801</th>\n",
              "      <td>20190099207</td>\n",
              "      <td>YVIS AQUINO DO NASCIMENTO</td>\n",
              "      <td>M</td>\n",
              "      <td>2019</td>\n",
              "      <td>1.0</td>\n",
              "      <td>SiSU</td>\n",
              "      <td>REGULAR</td>\n",
              "      <td>TRANCADO</td>\n",
              "      <td>G</td>\n",
              "      <td>GRADUAÇÃO</td>\n",
              "      <td>2000067.0</td>\n",
              "      <td>QUÍMICA</td>\n",
              "      <td>PRESENCIAL</td>\n",
              "      <td>439.0</td>\n",
              "      <td>CENTRO DE CIÊNCIAS EXATAS E DA TERRA</td>\n",
              "      <td>439.0</td>\n",
              "      <td>CENTRO DE CIÊNCIAS EXATAS E DA TERRA</td>\n",
              "    </tr>\n",
              "    <tr>\n",
              "      <th>15810</th>\n",
              "      <td>20191011310</td>\n",
              "      <td>ZENILEIDE REJANE DE AZEVEDO</td>\n",
              "      <td>M</td>\n",
              "      <td>2019</td>\n",
              "      <td>1.0</td>\n",
              "      <td>ALUNO ESPECIAL POS-GRADUACAO</td>\n",
              "      <td>ESPECIAL</td>\n",
              "      <td>CANCELADO</td>\n",
              "      <td>E</td>\n",
              "      <td>MESTRADO</td>\n",
              "      <td>NaN</td>\n",
              "      <td>NaN</td>\n",
              "      <td>NaN</td>\n",
              "      <td>NaN</td>\n",
              "      <td>NaN</td>\n",
              "      <td>NaN</td>\n",
              "      <td>NaN</td>\n",
              "    </tr>\n",
              "  </tbody>\n",
              "</table>\n",
              "</div>"
            ],
            "text/plain": [
              "         matricula  ...                        nome_unidade_gestora\n",
              "15780  20190068873  ...        CENTRO DE CIÊNCIAS SOCIAIS APLICADAS\n",
              "15782  20190100460  ...  CENTRO DE CIÊNCIAS HUMANAS, LETRAS E ARTES\n",
              "15788  20195004162  ...  CENTRO DE CIÊNCIAS HUMANAS, LETRAS E ARTES\n",
              "15801  20190099207  ...        CENTRO DE CIÊNCIAS EXATAS E DA TERRA\n",
              "15810  20191011310  ...                                         NaN\n",
              "\n",
              "[5 rows x 17 columns]"
            ]
          },
          "metadata": {
            "tags": []
          },
          "execution_count": 82
        }
      ]
    },
    {
      "cell_type": "markdown",
      "metadata": {
        "id": "FLLC_2stfihh",
        "colab_type": "text"
      },
      "source": [
        "#### Condições e operadores lógicos\n",
        "Podemos também usar condições mais complexas, usando **operadores lógicos**.\n",
        "\n",
        "Vamos restringir um pouco mais a consulta acima para que, além de **forma_ingresso** ter valor **REINGRESSO SEGUNDO CICLO**, **nome_curso** tenha valor **ENGENHARIA DE SOFTWARE**:"
      ]
    },
    {
      "cell_type": "code",
      "metadata": {
        "id": "y25iRIQnldzG",
        "colab_type": "code",
        "outputId": "0eb05254-fc7a-417c-c1ec-6997f346b57a",
        "colab": {
          "base_uri": "https://localhost:8080/",
          "height": 499
        }
      },
      "source": [
        "condição_segundo_ciclo = data[\"forma_ingresso\"] == \"REINGRESSO SEGUNDO CICLO\"\n",
        "condição_engenharia_software = data[\"nome_curso\"] == \"ENGENHARIA DE SOFTWARE\"\n",
        "data_2ciclo_engsoft = data[condição_segundo_ciclo & condição_engenharia_software]\n",
        "data_2ciclo_engsoft.head()"
      ],
      "execution_count": 78,
      "outputs": [
        {
          "output_type": "execute_result",
          "data": {
            "text/html": [
              "<div>\n",
              "<style scoped>\n",
              "    .dataframe tbody tr th:only-of-type {\n",
              "        vertical-align: middle;\n",
              "    }\n",
              "\n",
              "    .dataframe tbody tr th {\n",
              "        vertical-align: top;\n",
              "    }\n",
              "\n",
              "    .dataframe thead th {\n",
              "        text-align: right;\n",
              "    }\n",
              "</style>\n",
              "<table border=\"1\" class=\"dataframe\">\n",
              "  <thead>\n",
              "    <tr style=\"text-align: right;\">\n",
              "      <th></th>\n",
              "      <th>matricula</th>\n",
              "      <th>nome_discente</th>\n",
              "      <th>sexo</th>\n",
              "      <th>ano_ingresso</th>\n",
              "      <th>periodo_ingresso</th>\n",
              "      <th>forma_ingresso</th>\n",
              "      <th>tipo_discente</th>\n",
              "      <th>status</th>\n",
              "      <th>sigla_nivel_ensino</th>\n",
              "      <th>nivel_ensino</th>\n",
              "      <th>id_curso</th>\n",
              "      <th>nome_curso</th>\n",
              "      <th>modalidade_educacao</th>\n",
              "      <th>id_unidade</th>\n",
              "      <th>nome_unidade</th>\n",
              "      <th>id_unidade_gestora</th>\n",
              "      <th>nome_unidade_gestora</th>\n",
              "    </tr>\n",
              "  </thead>\n",
              "  <tbody>\n",
              "    <tr>\n",
              "      <th>38</th>\n",
              "      <td>20190000518</td>\n",
              "      <td>ADELINO AFONSO FERNANDES AVELINO</td>\n",
              "      <td>M</td>\n",
              "      <td>2019</td>\n",
              "      <td>1.0</td>\n",
              "      <td>REINGRESSO SEGUNDO CICLO</td>\n",
              "      <td>REGULAR</td>\n",
              "      <td>ATIVO</td>\n",
              "      <td>G</td>\n",
              "      <td>GRADUAÇÃO</td>\n",
              "      <td>17848940.0</td>\n",
              "      <td>ENGENHARIA DE SOFTWARE</td>\n",
              "      <td>PRESENCIAL</td>\n",
              "      <td>439.0</td>\n",
              "      <td>CENTRO DE CIÊNCIAS EXATAS E DA TERRA</td>\n",
              "      <td>439.0</td>\n",
              "      <td>CENTRO DE CIÊNCIAS EXATAS E DA TERRA</td>\n",
              "    </tr>\n",
              "    <tr>\n",
              "      <th>560</th>\n",
              "      <td>20190152672</td>\n",
              "      <td>ALLAN VALDEVINO GONÇALVES</td>\n",
              "      <td>M</td>\n",
              "      <td>2019</td>\n",
              "      <td>2.0</td>\n",
              "      <td>REINGRESSO SEGUNDO CICLO</td>\n",
              "      <td>REGULAR</td>\n",
              "      <td>ATIVO</td>\n",
              "      <td>G</td>\n",
              "      <td>GRADUAÇÃO</td>\n",
              "      <td>17848940.0</td>\n",
              "      <td>ENGENHARIA DE SOFTWARE</td>\n",
              "      <td>PRESENCIAL</td>\n",
              "      <td>439.0</td>\n",
              "      <td>CENTRO DE CIÊNCIAS EXATAS E DA TERRA</td>\n",
              "      <td>439.0</td>\n",
              "      <td>CENTRO DE CIÊNCIAS EXATAS E DA TERRA</td>\n",
              "    </tr>\n",
              "    <tr>\n",
              "      <th>703</th>\n",
              "      <td>20190152681</td>\n",
              "      <td>AMANDA PRISCILLA ARAÚJO DA SILVA</td>\n",
              "      <td>F</td>\n",
              "      <td>2019</td>\n",
              "      <td>2.0</td>\n",
              "      <td>REINGRESSO SEGUNDO CICLO</td>\n",
              "      <td>REGULAR</td>\n",
              "      <td>ATIVO</td>\n",
              "      <td>G</td>\n",
              "      <td>GRADUAÇÃO</td>\n",
              "      <td>17848940.0</td>\n",
              "      <td>ENGENHARIA DE SOFTWARE</td>\n",
              "      <td>PRESENCIAL</td>\n",
              "      <td>439.0</td>\n",
              "      <td>CENTRO DE CIÊNCIAS EXATAS E DA TERRA</td>\n",
              "      <td>439.0</td>\n",
              "      <td>CENTRO DE CIÊNCIAS EXATAS E DA TERRA</td>\n",
              "    </tr>\n",
              "    <tr>\n",
              "      <th>971</th>\n",
              "      <td>20190152690</td>\n",
              "      <td>ANALLA NAYANE DE FARIAS CUNHA</td>\n",
              "      <td>F</td>\n",
              "      <td>2019</td>\n",
              "      <td>2.0</td>\n",
              "      <td>REINGRESSO SEGUNDO CICLO</td>\n",
              "      <td>REGULAR</td>\n",
              "      <td>ATIVO</td>\n",
              "      <td>G</td>\n",
              "      <td>GRADUAÇÃO</td>\n",
              "      <td>17848940.0</td>\n",
              "      <td>ENGENHARIA DE SOFTWARE</td>\n",
              "      <td>PRESENCIAL</td>\n",
              "      <td>439.0</td>\n",
              "      <td>CENTRO DE CIÊNCIAS EXATAS E DA TERRA</td>\n",
              "      <td>439.0</td>\n",
              "      <td>CENTRO DE CIÊNCIAS EXATAS E DA TERRA</td>\n",
              "    </tr>\n",
              "    <tr>\n",
              "      <th>1259</th>\n",
              "      <td>20190000527</td>\n",
              "      <td>ANDRÉ LUIZ DE LUCENA MOREIRA</td>\n",
              "      <td>M</td>\n",
              "      <td>2019</td>\n",
              "      <td>1.0</td>\n",
              "      <td>REINGRESSO SEGUNDO CICLO</td>\n",
              "      <td>REGULAR</td>\n",
              "      <td>CANCELADO</td>\n",
              "      <td>G</td>\n",
              "      <td>GRADUAÇÃO</td>\n",
              "      <td>17848940.0</td>\n",
              "      <td>ENGENHARIA DE SOFTWARE</td>\n",
              "      <td>PRESENCIAL</td>\n",
              "      <td>439.0</td>\n",
              "      <td>CENTRO DE CIÊNCIAS EXATAS E DA TERRA</td>\n",
              "      <td>439.0</td>\n",
              "      <td>CENTRO DE CIÊNCIAS EXATAS E DA TERRA</td>\n",
              "    </tr>\n",
              "  </tbody>\n",
              "</table>\n",
              "</div>"
            ],
            "text/plain": [
              "        matricula  ...                  nome_unidade_gestora\n",
              "38    20190000518  ...  CENTRO DE CIÊNCIAS EXATAS E DA TERRA\n",
              "560   20190152672  ...  CENTRO DE CIÊNCIAS EXATAS E DA TERRA\n",
              "703   20190152681  ...  CENTRO DE CIÊNCIAS EXATAS E DA TERRA\n",
              "971   20190152690  ...  CENTRO DE CIÊNCIAS EXATAS E DA TERRA\n",
              "1259  20190000527  ...  CENTRO DE CIÊNCIAS EXATAS E DA TERRA\n",
              "\n",
              "[5 rows x 17 columns]"
            ]
          },
          "metadata": {
            "tags": []
          },
          "execution_count": 78
        }
      ]
    },
    {
      "cell_type": "markdown",
      "metadata": {
        "id": "6gBoCgGdl33r",
        "colab_type": "text"
      },
      "source": [
        "Revendo o código acima:\n",
        "* ```python\n",
        "condição_segundo_ciclo = data[\"forma_ingresso\"] == \"REINGRESSO SEGUNDO CICLO\"\n",
        "````\n",
        "Condição para escolher apenas os ingressantes através de reingresso de segundo ciclo\n",
        "```python\n",
        "condição_engenharia_software = data[\"nome_curso\"] == \"ENGENHARIA DE SOFTWARE\"\n",
        "```\n",
        "Condição para escolher apenas os ingressantes do curso de engenharia de software\n",
        "```python\n",
        "data_2ciclo_engsoft = data[condição_segundo_ciclo & condição_engenharia_software]\n",
        "```\n",
        "Combinando as duas condições através do operador `&` (lemos como E)"
      ]
    },
    {
      "cell_type": "markdown",
      "metadata": {
        "id": "_-dAt2lgodAi",
        "colab_type": "text"
      },
      "source": [
        "#### Outros operadores lógicos\n",
        "\n",
        "Além do operador `&`, o Pandas também disponibiliza o operador `|` (lemos como OU).\n",
        "\n",
        "Enquanto o operador `&` escolhe a linha apenas se as duas condições forem verdadeiras, para o operador `|` basta que uma das condições seja satisfeita.\n",
        "\n",
        "Seguindo essa definição, o que o exemplo abaixo faz?"
      ]
    },
    {
      "cell_type": "code",
      "metadata": {
        "id": "C8yVonNefiqB",
        "colab_type": "code",
        "outputId": "e47318a8-847a-4803-b714-accc3ec9a2e2",
        "colab": {
          "base_uri": "https://localhost:8080/",
          "height": 499
        }
      },
      "source": [
        "condição_segundo_ciclo = data[\"forma_ingresso\"] == \"REINGRESSO SEGUNDO CICLO\"\n",
        "condição_engenharia_software = data[\"nome_curso\"] == \"ENGENHARIA DE SOFTWARE\"\n",
        "condição_ciência_computação = data[\"nome_curso\"] == \"CIÊNCIA DA COMPUTAÇÃO\"\n",
        "condição_dimap = condição_ciência_computação | condição_engenharia_software\n",
        "data_2ciclo_dimap = data[condição_segundo_ciclo & condição_dimap]\n",
        "data_2ciclo_dimap.head()"
      ],
      "execution_count": 79,
      "outputs": [
        {
          "output_type": "execute_result",
          "data": {
            "text/html": [
              "<div>\n",
              "<style scoped>\n",
              "    .dataframe tbody tr th:only-of-type {\n",
              "        vertical-align: middle;\n",
              "    }\n",
              "\n",
              "    .dataframe tbody tr th {\n",
              "        vertical-align: top;\n",
              "    }\n",
              "\n",
              "    .dataframe thead th {\n",
              "        text-align: right;\n",
              "    }\n",
              "</style>\n",
              "<table border=\"1\" class=\"dataframe\">\n",
              "  <thead>\n",
              "    <tr style=\"text-align: right;\">\n",
              "      <th></th>\n",
              "      <th>matricula</th>\n",
              "      <th>nome_discente</th>\n",
              "      <th>sexo</th>\n",
              "      <th>ano_ingresso</th>\n",
              "      <th>periodo_ingresso</th>\n",
              "      <th>forma_ingresso</th>\n",
              "      <th>tipo_discente</th>\n",
              "      <th>status</th>\n",
              "      <th>sigla_nivel_ensino</th>\n",
              "      <th>nivel_ensino</th>\n",
              "      <th>id_curso</th>\n",
              "      <th>nome_curso</th>\n",
              "      <th>modalidade_educacao</th>\n",
              "      <th>id_unidade</th>\n",
              "      <th>nome_unidade</th>\n",
              "      <th>id_unidade_gestora</th>\n",
              "      <th>nome_unidade_gestora</th>\n",
              "    </tr>\n",
              "  </thead>\n",
              "  <tbody>\n",
              "    <tr>\n",
              "      <th>38</th>\n",
              "      <td>20190000518</td>\n",
              "      <td>ADELINO AFONSO FERNANDES AVELINO</td>\n",
              "      <td>M</td>\n",
              "      <td>2019</td>\n",
              "      <td>1.0</td>\n",
              "      <td>REINGRESSO SEGUNDO CICLO</td>\n",
              "      <td>REGULAR</td>\n",
              "      <td>ATIVO</td>\n",
              "      <td>G</td>\n",
              "      <td>GRADUAÇÃO</td>\n",
              "      <td>17848940.0</td>\n",
              "      <td>ENGENHARIA DE SOFTWARE</td>\n",
              "      <td>PRESENCIAL</td>\n",
              "      <td>439.0</td>\n",
              "      <td>CENTRO DE CIÊNCIAS EXATAS E DA TERRA</td>\n",
              "      <td>439.0</td>\n",
              "      <td>CENTRO DE CIÊNCIAS EXATAS E DA TERRA</td>\n",
              "    </tr>\n",
              "    <tr>\n",
              "      <th>159</th>\n",
              "      <td>20190152609</td>\n",
              "      <td>AILSON FORTE DOS SANTOS</td>\n",
              "      <td>M</td>\n",
              "      <td>2019</td>\n",
              "      <td>2.0</td>\n",
              "      <td>REINGRESSO SEGUNDO CICLO</td>\n",
              "      <td>REGULAR</td>\n",
              "      <td>ATIVO</td>\n",
              "      <td>G</td>\n",
              "      <td>GRADUAÇÃO</td>\n",
              "      <td>2000013.0</td>\n",
              "      <td>CIÊNCIA DA COMPUTAÇÃO</td>\n",
              "      <td>PRESENCIAL</td>\n",
              "      <td>439.0</td>\n",
              "      <td>CENTRO DE CIÊNCIAS EXATAS E DA TERRA</td>\n",
              "      <td>439.0</td>\n",
              "      <td>CENTRO DE CIÊNCIAS EXATAS E DA TERRA</td>\n",
              "    </tr>\n",
              "    <tr>\n",
              "      <th>560</th>\n",
              "      <td>20190152672</td>\n",
              "      <td>ALLAN VALDEVINO GONÇALVES</td>\n",
              "      <td>M</td>\n",
              "      <td>2019</td>\n",
              "      <td>2.0</td>\n",
              "      <td>REINGRESSO SEGUNDO CICLO</td>\n",
              "      <td>REGULAR</td>\n",
              "      <td>ATIVO</td>\n",
              "      <td>G</td>\n",
              "      <td>GRADUAÇÃO</td>\n",
              "      <td>17848940.0</td>\n",
              "      <td>ENGENHARIA DE SOFTWARE</td>\n",
              "      <td>PRESENCIAL</td>\n",
              "      <td>439.0</td>\n",
              "      <td>CENTRO DE CIÊNCIAS EXATAS E DA TERRA</td>\n",
              "      <td>439.0</td>\n",
              "      <td>CENTRO DE CIÊNCIAS EXATAS E DA TERRA</td>\n",
              "    </tr>\n",
              "    <tr>\n",
              "      <th>703</th>\n",
              "      <td>20190152681</td>\n",
              "      <td>AMANDA PRISCILLA ARAÚJO DA SILVA</td>\n",
              "      <td>F</td>\n",
              "      <td>2019</td>\n",
              "      <td>2.0</td>\n",
              "      <td>REINGRESSO SEGUNDO CICLO</td>\n",
              "      <td>REGULAR</td>\n",
              "      <td>ATIVO</td>\n",
              "      <td>G</td>\n",
              "      <td>GRADUAÇÃO</td>\n",
              "      <td>17848940.0</td>\n",
              "      <td>ENGENHARIA DE SOFTWARE</td>\n",
              "      <td>PRESENCIAL</td>\n",
              "      <td>439.0</td>\n",
              "      <td>CENTRO DE CIÊNCIAS EXATAS E DA TERRA</td>\n",
              "      <td>439.0</td>\n",
              "      <td>CENTRO DE CIÊNCIAS EXATAS E DA TERRA</td>\n",
              "    </tr>\n",
              "    <tr>\n",
              "      <th>971</th>\n",
              "      <td>20190152690</td>\n",
              "      <td>ANALLA NAYANE DE FARIAS CUNHA</td>\n",
              "      <td>F</td>\n",
              "      <td>2019</td>\n",
              "      <td>2.0</td>\n",
              "      <td>REINGRESSO SEGUNDO CICLO</td>\n",
              "      <td>REGULAR</td>\n",
              "      <td>ATIVO</td>\n",
              "      <td>G</td>\n",
              "      <td>GRADUAÇÃO</td>\n",
              "      <td>17848940.0</td>\n",
              "      <td>ENGENHARIA DE SOFTWARE</td>\n",
              "      <td>PRESENCIAL</td>\n",
              "      <td>439.0</td>\n",
              "      <td>CENTRO DE CIÊNCIAS EXATAS E DA TERRA</td>\n",
              "      <td>439.0</td>\n",
              "      <td>CENTRO DE CIÊNCIAS EXATAS E DA TERRA</td>\n",
              "    </tr>\n",
              "  </tbody>\n",
              "</table>\n",
              "</div>"
            ],
            "text/plain": [
              "       matricula  ...                  nome_unidade_gestora\n",
              "38   20190000518  ...  CENTRO DE CIÊNCIAS EXATAS E DA TERRA\n",
              "159  20190152609  ...  CENTRO DE CIÊNCIAS EXATAS E DA TERRA\n",
              "560  20190152672  ...  CENTRO DE CIÊNCIAS EXATAS E DA TERRA\n",
              "703  20190152681  ...  CENTRO DE CIÊNCIAS EXATAS E DA TERRA\n",
              "971  20190152690  ...  CENTRO DE CIÊNCIAS EXATAS E DA TERRA\n",
              "\n",
              "[5 rows x 17 columns]"
            ]
          },
          "metadata": {
            "tags": []
          },
          "execution_count": 79
        }
      ]
    },
    {
      "cell_type": "markdown",
      "metadata": {
        "id": "lYIp5ZOcomNe",
        "colab_type": "text"
      },
      "source": [
        "Revendo o código acima:\n",
        "* ```python\n",
        "condição_segundo_ciclo = data[\"forma_ingresso\"] == \"REINGRESSO SEGUNDO CICLO\"\n",
        "````\n",
        "Condição para escolher apenas os ingressantes através de reingresso de segundo ciclo\n",
        "```python\n",
        "condição_engenharia_software = data[\"nome_curso\"] == \"ENGENHARIA DE SOFTWARE\"\n",
        "```\n",
        "Condição para escolher apenas os ingressantes do curso de engenharia de software\n",
        "```python\n",
        "condição_ciência_computação = data[\"nome_curso\"] == \"CIÊNCIA DA COMPUTAÇÃO\"\n",
        "```\n",
        "Condição para escolher apenas os ingressantes do curso de ciência da computação\n",
        "```python\n",
        "condição_dimap = condição_ciência_computação | condição_engenharia_software\n",
        "```\n",
        "Combinando as duas condições através do operador OU\n",
        "```python\n",
        "data_2ciclo_dimap = data[condição_segundo_ciclo & condição_dimap]\n",
        "```\n",
        "Combinando as duas condições através do operador E\n",
        "\n",
        "Note que usamos o operador OU quando poderíamos ter usado o método `isin()`, que é mais legível.\n",
        "\n",
        "Em geral, adotamos o operador OU quando as condições envolvem características distintas, em vez de valores distintos para uma mesma característica.\n",
        "\n",
        "Por último, o operador `~` (lemos operador NÃO) serve para reverter uma condição:"
      ]
    },
    {
      "cell_type": "code",
      "metadata": {
        "id": "VM2AENbdpel7",
        "colab_type": "code",
        "outputId": "a7151ea0-a06f-422a-fedd-a341a67c530d",
        "colab": {
          "base_uri": "https://localhost:8080/",
          "height": 533
        }
      },
      "source": [
        "data_ingresso_direto = data[~condição_segundo_ciclo]\n",
        "data_ingresso_direto.head()"
      ],
      "execution_count": 80,
      "outputs": [
        {
          "output_type": "execute_result",
          "data": {
            "text/html": [
              "<div>\n",
              "<style scoped>\n",
              "    .dataframe tbody tr th:only-of-type {\n",
              "        vertical-align: middle;\n",
              "    }\n",
              "\n",
              "    .dataframe tbody tr th {\n",
              "        vertical-align: top;\n",
              "    }\n",
              "\n",
              "    .dataframe thead th {\n",
              "        text-align: right;\n",
              "    }\n",
              "</style>\n",
              "<table border=\"1\" class=\"dataframe\">\n",
              "  <thead>\n",
              "    <tr style=\"text-align: right;\">\n",
              "      <th></th>\n",
              "      <th>matricula</th>\n",
              "      <th>nome_discente</th>\n",
              "      <th>sexo</th>\n",
              "      <th>ano_ingresso</th>\n",
              "      <th>periodo_ingresso</th>\n",
              "      <th>forma_ingresso</th>\n",
              "      <th>tipo_discente</th>\n",
              "      <th>status</th>\n",
              "      <th>sigla_nivel_ensino</th>\n",
              "      <th>nivel_ensino</th>\n",
              "      <th>id_curso</th>\n",
              "      <th>nome_curso</th>\n",
              "      <th>modalidade_educacao</th>\n",
              "      <th>id_unidade</th>\n",
              "      <th>nome_unidade</th>\n",
              "      <th>id_unidade_gestora</th>\n",
              "      <th>nome_unidade_gestora</th>\n",
              "    </tr>\n",
              "  </thead>\n",
              "  <tbody>\n",
              "    <tr>\n",
              "      <th>0</th>\n",
              "      <td>20193012209</td>\n",
              "      <td>ABDENOR BEZERRA DOS SANTOS</td>\n",
              "      <td>M</td>\n",
              "      <td>2019</td>\n",
              "      <td>1.0</td>\n",
              "      <td>PROCESSO SELETIVO</td>\n",
              "      <td>REGULAR</td>\n",
              "      <td>ATIVO</td>\n",
              "      <td>T</td>\n",
              "      <td>TÉCNICO</td>\n",
              "      <td>96054058.0</td>\n",
              "      <td>CURSO TÉCNICO DA METRÓPOLE DIGITAL</td>\n",
              "      <td>SEMI-PRESENCIAL</td>\n",
              "      <td>6069.0</td>\n",
              "      <td>INSTITUTO METROPOLE DIGITAL</td>\n",
              "      <td>605.0</td>\n",
              "      <td>UNIVERSIDADE FEDERAL DO RIO GRANDE DO NORTE</td>\n",
              "    </tr>\n",
              "    <tr>\n",
              "      <th>1</th>\n",
              "      <td>20190088900</td>\n",
              "      <td>ABDIAS MONTEIRO DE ANDRADE MELO</td>\n",
              "      <td>M</td>\n",
              "      <td>2019</td>\n",
              "      <td>1.0</td>\n",
              "      <td>SiSU</td>\n",
              "      <td>REGULAR</td>\n",
              "      <td>ATIVO</td>\n",
              "      <td>G</td>\n",
              "      <td>GRADUAÇÃO</td>\n",
              "      <td>111635060.0</td>\n",
              "      <td>HISTÓRIA</td>\n",
              "      <td>PRESENCIAL</td>\n",
              "      <td>1482.0</td>\n",
              "      <td>CENTRO DE  ENSINO SUPERIOR DO SERIDÓ</td>\n",
              "      <td>1482.0</td>\n",
              "      <td>CENTRO DE  ENSINO SUPERIOR DO SERIDÓ</td>\n",
              "    </tr>\n",
              "    <tr>\n",
              "      <th>2</th>\n",
              "      <td>20190127606</td>\n",
              "      <td>ABDIAS SABINO RODRIGUES FILHO</td>\n",
              "      <td>M</td>\n",
              "      <td>2019</td>\n",
              "      <td>1.0</td>\n",
              "      <td>SiSU</td>\n",
              "      <td>REGULAR</td>\n",
              "      <td>CANCELADO</td>\n",
              "      <td>G</td>\n",
              "      <td>GRADUAÇÃO</td>\n",
              "      <td>111635060.0</td>\n",
              "      <td>HISTÓRIA</td>\n",
              "      <td>PRESENCIAL</td>\n",
              "      <td>1482.0</td>\n",
              "      <td>CENTRO DE  ENSINO SUPERIOR DO SERIDÓ</td>\n",
              "      <td>1482.0</td>\n",
              "      <td>CENTRO DE  ENSINO SUPERIOR DO SERIDÓ</td>\n",
              "    </tr>\n",
              "    <tr>\n",
              "      <th>3</th>\n",
              "      <td>20195001008</td>\n",
              "      <td>ABEL GOMES DE OLIVEIRA FILHO</td>\n",
              "      <td>M</td>\n",
              "      <td>2019</td>\n",
              "      <td>1.0</td>\n",
              "      <td>PROCESSO SELETIVO</td>\n",
              "      <td>REGULAR</td>\n",
              "      <td>ATIVO</td>\n",
              "      <td>F</td>\n",
              "      <td>FORMAÇÃO COMPLEMENTAR</td>\n",
              "      <td>112718836.0</td>\n",
              "      <td>CURSO DE LÍNGUA BRASILEIRA DE SINAIS (LIBRAS)</td>\n",
              "      <td>PRESENCIAL</td>\n",
              "      <td>6042.0</td>\n",
              "      <td>INSTITUTO ÁGORA - LÍNGUAS, LITERATURAS E CULTU...</td>\n",
              "      <td>442.0</td>\n",
              "      <td>CENTRO DE CIÊNCIAS HUMANAS, LETRAS E ARTES</td>\n",
              "    </tr>\n",
              "    <tr>\n",
              "      <th>4</th>\n",
              "      <td>20190032217</td>\n",
              "      <td>ABI AMANA DE AQUINO BEZERRA</td>\n",
              "      <td>F</td>\n",
              "      <td>2019</td>\n",
              "      <td>2.0</td>\n",
              "      <td>SiSU</td>\n",
              "      <td>REGULAR</td>\n",
              "      <td>ATIVO</td>\n",
              "      <td>G</td>\n",
              "      <td>GRADUAÇÃO</td>\n",
              "      <td>119512361.0</td>\n",
              "      <td>COMUNICAÇÃO SOCIAL - AUDIOVISUAL</td>\n",
              "      <td>PRESENCIAL</td>\n",
              "      <td>442.0</td>\n",
              "      <td>CENTRO DE CIÊNCIAS HUMANAS, LETRAS E ARTES</td>\n",
              "      <td>442.0</td>\n",
              "      <td>CENTRO DE CIÊNCIAS HUMANAS, LETRAS E ARTES</td>\n",
              "    </tr>\n",
              "  </tbody>\n",
              "</table>\n",
              "</div>"
            ],
            "text/plain": [
              "     matricula  ...                         nome_unidade_gestora\n",
              "0  20193012209  ...  UNIVERSIDADE FEDERAL DO RIO GRANDE DO NORTE\n",
              "1  20190088900  ...         CENTRO DE  ENSINO SUPERIOR DO SERIDÓ\n",
              "2  20190127606  ...         CENTRO DE  ENSINO SUPERIOR DO SERIDÓ\n",
              "3  20195001008  ...   CENTRO DE CIÊNCIAS HUMANAS, LETRAS E ARTES\n",
              "4  20190032217  ...   CENTRO DE CIÊNCIAS HUMANAS, LETRAS E ARTES\n",
              "\n",
              "[5 rows x 17 columns]"
            ]
          },
          "metadata": {
            "tags": []
          },
          "execution_count": 80
        }
      ]
    },
    {
      "cell_type": "markdown",
      "metadata": {
        "id": "N4ij0OwfuPUu",
        "colab_type": "text"
      },
      "source": [
        "* **Observação**: expressões lógicas complexas merecem uma pesquisa específica sobre o assunto. Cobrir esse tópico em profundidade foge do escopo deste notebook 🙃"
      ]
    },
    {
      "cell_type": "markdown",
      "metadata": {
        "id": "rUxmpjzLw6v0",
        "colab_type": "text"
      },
      "source": [
        "### Mais métodos de consulta\n",
        "\n",
        "* **unique()**: traz todos os valores distintos de uma série\n",
        "\n"
      ]
    },
    {
      "cell_type": "code",
      "metadata": {
        "id": "9ELja07WnZHD",
        "colab_type": "code",
        "colab": {}
      },
      "source": [
        "data['forma_ingresso'].unique()"
      ],
      "execution_count": 0,
      "outputs": []
    },
    {
      "cell_type": "markdown",
      "metadata": {
        "id": "W1FBND3XKr6u",
        "colab_type": "text"
      },
      "source": [
        "* **nunique()**: traz a quantidade de valores distintos por coluna do dataframe (ou de uma série específica)\n"
      ]
    },
    {
      "cell_type": "code",
      "metadata": {
        "id": "9dDk-eleHePv",
        "colab_type": "code",
        "colab": {}
      },
      "source": [
        "data.nunique()"
      ],
      "execution_count": 0,
      "outputs": []
    },
    {
      "cell_type": "code",
      "metadata": {
        "colab_type": "code",
        "id": "0V9620-PRdsT",
        "colab": {}
      },
      "source": [
        "data[\"sexo\"].nunique()"
      ],
      "execution_count": 0,
      "outputs": []
    },
    {
      "cell_type": "markdown",
      "metadata": {
        "id": "1sjPoopiN9bK",
        "colab_type": "text"
      },
      "source": [
        "* **value_counts()**: retorna quantas vezes cada valor de uma série se repete"
      ]
    },
    {
      "cell_type": "code",
      "metadata": {
        "id": "NXTmDPqnOGUT",
        "colab_type": "code",
        "colab": {}
      },
      "source": [
        "data[\"nome_unidade\"].value_counts()"
      ],
      "execution_count": 0,
      "outputs": []
    },
    {
      "cell_type": "markdown",
      "metadata": {
        "id": "zYaf7IvINVMH",
        "colab_type": "text"
      },
      "source": [
        "* **'sort_values()'** é usado para ordenação no dataframe. Podendo especificar quais as colunas para se ordernar e se vai ser crescente ou decrescente.\n",
        "\n",
        "\n",
        "```\n",
        "sort_values(by=[<colunas>],ascending=<True or False>)\n",
        "```\n",
        "\n",
        "\n"
      ]
    },
    {
      "cell_type": "code",
      "metadata": {
        "id": "ssYDlYsVLQCC",
        "colab_type": "code",
        "colab": {}
      },
      "source": [
        "data.sort_values(by=['periodo_ingresso','forma_ingresso'],ascending=False).head(5)"
      ],
      "execution_count": 0,
      "outputs": []
    },
    {
      "cell_type": "markdown",
      "metadata": {
        "id": "wD038RycMPKZ",
        "colab_type": "text"
      },
      "source": [
        "O método **'value_counts()'** retorna dados estatísticos das colunas numericas do dataframe"
      ]
    },
    {
      "cell_type": "code",
      "metadata": {
        "id": "-ECoZ7U4DG2A",
        "colab_type": "code",
        "colab": {}
      },
      "source": [
        "data['nome_curso'].value_counts()"
      ],
      "execution_count": 0,
      "outputs": []
    }
  ]
}